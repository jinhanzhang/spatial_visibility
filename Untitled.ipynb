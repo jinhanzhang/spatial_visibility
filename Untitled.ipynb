{
 "cells": [
  {
   "cell_type": "code",
   "execution_count": 72,
   "id": "9533c88d-d29d-47b3-8da1-aaede0eea596",
   "metadata": {},
   "outputs": [
    {
     "name": "stderr",
     "output_type": "stream",
     "text": [
      "/Users/chenli/research/point cloud/node_feature_utils.py:707: SettingWithCopyWarning: \n",
      "A value is trying to be set on a copy of a slice from a DataFrame.\n",
      "Try using .loc[row_indexer,col_indexer] = value instead\n",
      "\n",
      "See the caveats in the documentation: https://pandas.pydata.org/pandas-docs/stable/user_guide/indexing.html#returning-a-view-versus-a-copy\n",
      "  df.iloc[0:end_frame_index+1,1:4] = predicted_trajectory_positions\n",
      "/Users/chenli/research/point cloud/node_feature_utils.py:708: SettingWithCopyWarning: \n",
      "A value is trying to be set on a copy of a slice from a DataFrame.\n",
      "Try using .loc[row_indexer,col_indexer] = value instead\n",
      "\n",
      "See the caveats in the documentation: https://pandas.pydata.org/pandas-docs/stable/user_guide/indexing.html#returning-a-view-versus-a-copy\n",
      "  df.iloc[0:end_frame_index+1,4:7] = predicted_trajectory_orientations\n"
     ]
    },
    {
     "ename": "KeyboardInterrupt",
     "evalue": "",
     "output_type": "error",
     "traceback": [
      "\u001b[0;31m---------------------------------------------------------------------------\u001b[0m",
      "\u001b[0;31mKeyboardInterrupt\u001b[0m                         Traceback (most recent call last)",
      "\u001b[1;32m/Users/chenli/research/point cloud/Untitled.ipynb Cell 1\u001b[0m line \u001b[0;36m3\n\u001b[1;32m      <a href='vscode-notebook-cell:/Users/chenli/research/point%20cloud/Untitled.ipynb#W0sZmlsZQ%3D%3D?line=0'>1</a>\u001b[0m get_ipython()\u001b[39m.\u001b[39mrun_line_magic(\u001b[39m'\u001b[39m\u001b[39mrun\u001b[39m\u001b[39m'\u001b[39m, \u001b[39m'\u001b[39m\u001b[39mnode_feature_utils.py\u001b[39m\u001b[39m'\u001b[39m)\n\u001b[1;32m      <a href='vscode-notebook-cell:/Users/chenli/research/point%20cloud/Untitled.ipynb#W0sZmlsZQ%3D%3D?line=1'>2</a>\u001b[0m \u001b[39m# for future_steps in range(1,100,10):\u001b[39;00m\n\u001b[0;32m----> <a href='vscode-notebook-cell:/Users/chenli/research/point%20cloud/Untitled.ipynb#W0sZmlsZQ%3D%3D?line=2'>3</a>\u001b[0m LR_prediction(window_size_lr\u001b[39m=\u001b[39;49m\u001b[39m5\u001b[39;49m,future_steps\u001b[39m=\u001b[39;49m\u001b[39m300\u001b[39;49m)\n",
      "File \u001b[0;32m~/research/point cloud/node_feature_utils.py:722\u001b[0m, in \u001b[0;36mLR_prediction\u001b[0;34m(window_size_lr, future_steps)\u001b[0m\n\u001b[1;32m    717\u001b[0m occupied_cell_pred \u001b[39m=\u001b[39m get_all_cell_occupied(frame_index_off_set \u001b[39m=\u001b[39m \u001b[39m1051\u001b[39m,\n\u001b[1;32m    718\u001b[0m                                   frame_index_begin \u001b[39m=\u001b[39m \u001b[39m0\u001b[39m,frame_index_end \u001b[39m=\u001b[39m end_frame_index)\n\u001b[1;32m    719\u001b[0m \u001b[39m# len(occupied_cell_pred)\u001b[39;00m\n\u001b[1;32m    720\u001b[0m \u001b[39m# occupied_cell\u001b[39;00m\n\u001b[1;32m    721\u001b[0m \u001b[39m## get all cell in the view frustum\u001b[39;00m\n\u001b[0;32m--> 722\u001b[0m FoV_cell_pred \u001b[39m=\u001b[39m get_cell_in_view_frustum(trajectory_positions_pred,trajectory_orientations_pred, occupied_cell_pred)\n\u001b[1;32m    723\u001b[0m \u001b[39mlen\u001b[39m(FoV_cell_pred)\n\u001b[1;32m    724\u001b[0m \u001b[39m## get feature for all cell\u001b[39;00m\n\u001b[1;32m    725\u001b[0m \u001b[39m# %run node_feature_utils.py\u001b[39;00m\n",
      "File \u001b[0;32m~/research/point cloud/node_feature_utils.py:159\u001b[0m, in \u001b[0;36mget_cell_in_view_frustum\u001b[0;34m(trajectory_positions, trajectory_orientations, occupied_cell)\u001b[0m\n\u001b[1;32m    157\u001b[0m cell_center \u001b[39m=\u001b[39m np\u001b[39m.\u001b[39marray([(cell[\u001b[39m0\u001b[39m]\u001b[39m+\u001b[39m\u001b[39m0.5\u001b[39m)\u001b[39m*\u001b[39mgrid_size,(cell[\u001b[39m1\u001b[39m]\u001b[39m+\u001b[39m\u001b[39m0.5\u001b[39m)\u001b[39m*\u001b[39mgrid_size,(cell[\u001b[39m2\u001b[39m]\u001b[39m+\u001b[39m\u001b[39m0.5\u001b[39m)\u001b[39m*\u001b[39mgrid_size])  \u001b[39m# Assuming cell represents the center\u001b[39;00m\n\u001b[1;32m    158\u001b[0m \u001b[39m# print(cell_center)\u001b[39;00m\n\u001b[0;32m--> 159\u001b[0m \u001b[39mif\u001b[39;00m is_point_in_frustum(cell_center, para_eye, orientation, fov_x, aspect_ratio, near_clip, far_clip):\n\u001b[1;32m    160\u001b[0m     FoV_cell[trajectory_index]\u001b[39m.\u001b[39madd(cell)\n\u001b[1;32m    161\u001b[0m     \u001b[39m# print(f\"Cell {cell} is inside the frustum.\")\u001b[39;00m\n",
      "File \u001b[0;32m~/research/point cloud/node_feature_utils.py:98\u001b[0m, in \u001b[0;36mis_point_in_frustum\u001b[0;34m(point, camera_pos, camera_dir, fov_x, aspect_ratio, near_clip, far_clip)\u001b[0m\n\u001b[1;32m     96\u001b[0m \u001b[39m# Direction vectors to the right and up based on camera orientation\u001b[39;00m\n\u001b[1;32m     97\u001b[0m right_vec \u001b[39m=\u001b[39m np\u001b[39m.\u001b[39mcross(camera_dir, np\u001b[39m.\u001b[39marray([\u001b[39m0\u001b[39m, \u001b[39m1\u001b[39m, \u001b[39m0\u001b[39m]))\n\u001b[0;32m---> 98\u001b[0m up_vec \u001b[39m=\u001b[39m np\u001b[39m.\u001b[39;49mcross(right_vec, camera_dir)\n\u001b[1;32m    100\u001b[0m \u001b[39m# Calculate near and far plane centers\u001b[39;00m\n\u001b[1;32m    101\u001b[0m near_center \u001b[39m=\u001b[39m camera_pos \u001b[39m+\u001b[39m camera_dir \u001b[39m*\u001b[39m near_clip\n",
      "File \u001b[0;32m<__array_function__ internals>:200\u001b[0m, in \u001b[0;36mcross\u001b[0;34m(*args, **kwargs)\u001b[0m\n",
      "File \u001b[0;32m~/opt/anaconda3/envs/pointcloud/lib/python3.10/site-packages/numpy/core/numeric.py:1671\u001b[0m, in \u001b[0;36mcross\u001b[0;34m(a, b, axisa, axisb, axisc, axis)\u001b[0m\n\u001b[1;32m   1669\u001b[0m multiply(a0, b2, out\u001b[39m=\u001b[39mtmp)\n\u001b[1;32m   1670\u001b[0m cp1 \u001b[39m-\u001b[39m\u001b[39m=\u001b[39m tmp\n\u001b[0;32m-> 1671\u001b[0m multiply(a0, b1, out\u001b[39m=\u001b[39;49mcp2)\n\u001b[1;32m   1672\u001b[0m multiply(a1, b0, out\u001b[39m=\u001b[39mtmp)\n\u001b[1;32m   1673\u001b[0m cp2 \u001b[39m-\u001b[39m\u001b[39m=\u001b[39m tmp\n",
      "\u001b[0;31mKeyboardInterrupt\u001b[0m: "
     ]
    }
   ],
   "source": [
    "%run node_feature_utils.py\n",
    "# for future_steps in range(1,100,10):\n",
    "LR_prediction(window_size_lr=5,future_steps=300)"
   ]
  },
  {
   "cell_type": "code",
   "execution_count": null,
   "id": "ba8a04fe",
   "metadata": {},
   "outputs": [],
   "source": []
  },
  {
   "cell_type": "code",
   "execution_count": null,
   "id": "21ff8f34-5379-48b3-9493-f58cccbbd551",
   "metadata": {},
   "outputs": [],
   "source": [
    "import open3d as o3d\n",
    "point_cloud_path = '8i/longdress/longdress/Ply/longdress_vox10_1051.ply'\n",
    "pcd = o3d.io.read_point_cloud(point_cloud_path)"
   ]
  },
  {
   "cell_type": "code",
   "execution_count": null,
   "id": "1554fe7d",
   "metadata": {},
   "outputs": [
    {
     "data": {
      "text/plain": [
       "PointCloud with 765821 points."
      ]
     },
     "execution_count": 2,
     "metadata": {},
     "output_type": "execute_result"
    }
   ],
   "source": [
    "pcd"
   ]
  },
  {
   "cell_type": "code",
   "execution_count": null,
   "id": "749ce01c",
   "metadata": {},
   "outputs": [
    {
     "data": {
      "text/plain": [
       "PointCloud with 14093 points."
      ]
     },
     "execution_count": 39,
     "metadata": {},
     "output_type": "execute_result"
    }
   ],
   "source": [
    "# downsampling points to 10 times less\n",
    "# pcd\n",
    "voxel_size = 8\n",
    "down_pcd = pcd.voxel_down_sample(voxel_size=voxel_size)\n",
    "# o3d.visualization.draw_geometries([down_pcd])\n",
    "camera = [ 300.0, 500, 2000 ]\n",
    "radius = 1000000\n",
    "down_pcd"
   ]
  },
  {
   "cell_type": "code",
   "execution_count": null,
   "id": "b3a040b9",
   "metadata": {},
   "outputs": [],
   "source": [
    "# 10k -4s\n",
    "# 100k - 8s\n",
    "# 1M - 20s\n",
    "for i in range(30):\n",
    "    down_pcd = pcd.voxel_down_sample(voxel_size=voxel_size)\n",
    "    _, pt_map = down_pcd.hidden_point_removal(camera,radius)"
   ]
  },
  {
   "cell_type": "code",
   "execution_count": null,
   "id": "a404c6fe",
   "metadata": {},
   "outputs": [],
   "source": []
  },
  {
   "cell_type": "code",
   "execution_count": null,
   "id": "25f28e0e",
   "metadata": {},
   "outputs": [
    {
     "ename": "",
     "evalue": "",
     "output_type": "error",
     "traceback": [
      "\u001b[1;31mCannot execute code, session has been disposed. Please try restarting the Kernel."
     ]
    },
    {
     "ename": "",
     "evalue": "",
     "output_type": "error",
     "traceback": [
      "\u001b[1;31mThe Kernel crashed while executing code in the the current cell or a previous cell. Please review the code in the cell(s) to identify a possible cause of the failure. Click <a href='https://aka.ms/vscodeJupyterKernelCrash'>here</a> for more info. View Jupyter <a href='command:jupyter.viewOutput'>log</a> for further details."
     ]
    }
   ],
   "source": [
    "# print(\"Define parameters used for hidden_point_removal\")\n",
    "\n",
    "\n",
    "camera = [ 2000.0, 600, 0 ]\n",
    "radius = 10000000\n",
    "# pcd = down_pcd\n",
    "# print(\"Get all points that are visible from given view point\")\n",
    "# front = [ 0.97077843081593018, 0.077085970480618979, 0.22725974438430921 ]\n",
    "# lookat = [ 281.0, 509.5, 174.5 ]\n",
    "# up = [ -0.074292602323873899, 0.99701885334845908, -0.020833034048614155 ]\n",
    "_, pt_map = pcd.hidden_point_removal(camera,radius)\n",
    "\n",
    "# print(\"Visualize result\")\n",
    "pcd_new = pcd.select_by_index(pt_map)\n",
    "# o3d.visualization.draw_geometries([pcd_new])\n",
    "# Create a coordinate frame object at the origin (size parameter adjusts the axis lengths)\n",
    "coordinate_frame = o3d.geometry.TriangleMesh.create_coordinate_frame(size=600, origin=[0, 0, 0])\n",
    "\n",
    "o3d.visualization.draw([pcd_new,coordinate_frame],lookat=[ 0.0, 600, 0 ],eye=camera,up=[0., 1, 0.])"
   ]
  },
  {
   "cell_type": "code",
   "execution_count": null,
   "id": "a9e79456",
   "metadata": {},
   "outputs": [
    {
     "name": "stdout",
     "output_type": "stream",
     "text": [
      "\u001b[1;33m[Open3D WARNING] GLFW Error: Cocoa: Failed to find service port for display\u001b[0;m\n",
      "\u001b[1;33m[Open3D WARNING] GLFW Error: Cocoa: Failed to find service port for display\u001b[0;m\n"
     ]
    }
   ],
   "source": [
    "_\n",
    "# visulize the mesh _ after hidden point removal\n",
    "o3d.visualization.draw_geometries([_])\n"
   ]
  },
  {
   "cell_type": "code",
   "execution_count": null,
   "id": "5d015b28",
   "metadata": {},
   "outputs": [
    {
     "data": {
      "text/plain": [
       "1.0000000000000002"
      ]
     },
     "execution_count": 7,
     "metadata": {},
     "output_type": "execute_result"
    }
   ],
   "source": [
    "a = [ -0.26496909828672233, 0.96425690402149666, 0.0 ]\n",
    "\n",
    "import numpy as np\n",
    "# get L2 norm for this vector\n",
    "np.linalg.norm(a, ord=2)\n",
    "# what's the math behind this?\n",
    "np.sqrt(np.sum(np.square(a)))\n"
   ]
  },
  {
   "cell_type": "code",
   "execution_count": null,
   "id": "21f6e9bd",
   "metadata": {},
   "outputs": [
    {
     "name": "stdout",
     "output_type": "stream",
     "text": [
      "input\n",
      "[Open3D INFO] Downloading https://github.com/isl-org/open3d_downloads/releases/download/20220201-data/ArmadilloMesh.ply\n",
      "[Open3D INFO] Downloaded to /Users/chenli/open3d_data/download/ArmadilloMesh/ArmadilloMesh.ply\n",
      "\u001b[1;33m[Open3D WARNING] GLFW Error: Cocoa: Failed to find service port for display\u001b[0;m\n",
      "\u001b[1;33m[Open3D WARNING] GLFW Error: Cocoa: Failed to find service port for display\u001b[0;m\n",
      "\u001b[1;33m[Open3D WARNING] GLFW Error: Cocoa: Failed to find service port for display\u001b[0;m\n",
      "\u001b[1;33m[Open3D WARNING] GLFW Error: Cocoa: Failed to find service port for display\u001b[0;m\n",
      "\u001b[1;33m[Open3D WARNING] GLFW Error: Cocoa: Failed to find service port for display\u001b[0;m\n",
      "\u001b[1;33m[Open3D WARNING] GLFW Error: Cocoa: Failed to find service port for display\u001b[0;m\n",
      "voxelization\n",
      "\u001b[1;33m[Open3D WARNING] GLFW Error: Cocoa: Failed to find service port for display\u001b[0;m\n",
      "\u001b[1;33m[Open3D WARNING] GLFW Error: Cocoa: Failed to find service port for display\u001b[0;m\n",
      "\u001b[1;33m[Open3D WARNING] GLFW Error: Cocoa: Failed to find service port for display\u001b[0;m\n"
     ]
    }
   ],
   "source": [
    "import open3d as o3d\n",
    "import numpy as np\n",
    "print('input')\n",
    "armadillo = o3d.data.ArmadilloMesh()\n",
    "mesh = o3d.io.read_triangle_mesh(armadillo.path)\n",
    "\n",
    "N = 2000\n",
    "pcd = mesh.sample_points_poisson_disk(N)\n",
    "# fit to unit cube\n",
    "pcd.scale(1 / np.max(pcd.get_max_bound() - pcd.get_min_bound()),\n",
    "          center=pcd.get_center())\n",
    "pcd.colors = o3d.utility.Vector3dVector(np.random.uniform(0, 1, size=(N, 3)))\n",
    "o3d.visualization.draw_geometries([pcd])\n",
    "\n",
    "print('voxelization')\n",
    "voxel_grid = o3d.geometry.VoxelGrid.create_from_point_cloud(pcd,\n",
    "                                                            voxel_size=0.05)\n",
    "o3d.visualization.draw_geometries([voxel_grid])"
   ]
  },
  {
   "cell_type": "markdown",
   "id": "9c15fa08",
   "metadata": {},
   "source": [
    "# grid"
   ]
  },
  {
   "cell_type": "code",
   "execution_count": null,
   "id": "771d9d6b",
   "metadata": {},
   "outputs": [
    {
     "name": "stdout",
     "output_type": "stream",
     "text": [
      "voxelization\n",
      "\u001b[1;33m[Open3D WARNING] GLFW Error: Cocoa: Failed to find service port for display\u001b[0;m\n",
      "\u001b[1;33m[Open3D WARNING] GLFW Error: Cocoa: Failed to find service port for display\u001b[0;m\n",
      "\u001b[1;33m[Open3D WARNING] GLFW Error: Cocoa: Failed to find service port for display\u001b[0;m\n"
     ]
    }
   ],
   "source": [
    "import open3d as o3d\n",
    "point_cloud_path = '8i/longdress/longdress/Ply/longdress_vox10_1051.ply'\n",
    "pcd = o3d.io.read_point_cloud(point_cloud_path)\n",
    "\n",
    "print('voxelization')\n",
    "voxel_grid = o3d.geometry.VoxelGrid.create_from_point_cloud(pcd,\n",
    "                                                            voxel_size=8)\n",
    "o3d.visualization.draw_geometries([voxel_grid])"
   ]
  },
  {
   "cell_type": "markdown",
   "id": "ebf067d8",
   "metadata": {},
   "source": [
    "# octree"
   ]
  },
  {
   "cell_type": "code",
   "execution_count": null,
   "id": "df5487d0",
   "metadata": {},
   "outputs": [
    {
     "name": "stdout",
     "output_type": "stream",
     "text": [
      "octree division\n"
     ]
    },
    {
     "ename": "",
     "evalue": "",
     "output_type": "error",
     "traceback": [
      "\u001b[1;31mCannot execute code, session has been disposed. Please try restarting the Kernel."
     ]
    },
    {
     "ename": "",
     "evalue": "",
     "output_type": "error",
     "traceback": [
      "\u001b[1;31mThe Kernel crashed while executing code in the the current cell or a previous cell. Please review the code in the cell(s) to identify a possible cause of the failure. Click <a href='https://aka.ms/vscodeJupyterKernelCrash'>here</a> for more info. View Jupyter <a href='command:jupyter.viewOutput'>log</a> for further details."
     ]
    }
   ],
   "source": [
    "import open3d as o3d\n",
    "point_cloud_path = '8i/longdress/longdress/Ply/longdress_vox10_1051.ply'\n",
    "pcd = o3d.io.read_point_cloud(point_cloud_path)\n",
    "print('octree division')\n",
    "octree = o3d.geometry.Octree(max_depth=5)\n",
    "octree.convert_from_point_cloud(pcd, size_expand=1)\n",
    "o3d.visualization.draw([octree])"
   ]
  },
  {
   "cell_type": "markdown",
   "id": "03480119",
   "metadata": {},
   "source": [
    "# get the centroids of the point cloud video"
   ]
  },
  {
   "cell_type": "code",
   "execution_count": null,
   "id": "216b6ee2",
   "metadata": {},
   "outputs": [
    {
     "data": {
      "text/plain": [
       "array([228.23192553, 535.05866806, 198.99821761])"
      ]
     },
     "execution_count": 3,
     "metadata": {},
     "output_type": "execute_result"
    }
   ],
   "source": [
    "import open3d as o3d\n",
    "import numpy as np\n",
    "point_cloud_path = '8i/longdress/longdress/Ply/longdress_vox10_1051.ply'\n",
    "point_cloud_path = '8i/loot/loot/Ply/loot_vox10_1000.ply'\n",
    "point_cloud_path = '8i/redandblack/redandblack/Ply/redandblack_vox10_1450.ply'\n",
    "point_cloud_path = '8i/soldier/soldier/Ply/soldier_vox10_0536.ply'\n",
    "pcd = o3d.io.read_point_cloud(point_cloud_path)\n",
    "# get the centroids of the points\n",
    "centroids = np.asarray(pcd.points)\n",
    "# get the mean of the centroids\n",
    "mean = np.mean(centroids, axis=0)\n",
    "mean\n",
    "\n"
   ]
  },
  {
   "cell_type": "code",
   "execution_count": null,
   "id": "73eff271",
   "metadata": {},
   "outputs": [
    {
     "name": "stdout",
     "output_type": "stream",
     "text": [
      "[ 459. 1012.  318.] [103.   9.  22.]\n"
     ]
    }
   ],
   "source": [
    "# get the max and min of the centroids on x,y,z\n",
    "max = np.max(centroids, axis=0)\n",
    "min = np.min(centroids, axis=0)\n",
    "print(max,min)"
   ]
  },
  {
   "cell_type": "code",
   "execution_count": null,
   "id": "b190079c",
   "metadata": {},
   "outputs": [
    {
     "data": {
      "text/plain": [
       "(0.0033696305000567523, array([-0.82135722,  0.        , -0.53650823]))"
      ]
     },
     "execution_count": 19,
     "metadata": {},
     "output_type": "execute_result"
    }
   ],
   "source": [
    "a = (246.72058875, 504.50635462, 147.34797557)\n",
    "b = (0.01,1.7,-0.04)\n",
    "# find a mapping between vector a to b by scaling and shifting\n",
    "# scaling\n",
    "scale = np.divide(b[1],a[1])\n",
    "# shift\n",
    "shift = np.subtract(b,np.multiply(a,scale))\n",
    "scale, shift\n"
   ]
  },
  {
   "cell_type": "code",
   "execution_count": null,
   "id": "202167d2",
   "metadata": {},
   "outputs": [],
   "source": [
    "def get_mapping(trajectory):\n",
    "    scale = 1\n",
    "    shift = [246,0,147]\n",
    "    return scale*trajectory - shift"
   ]
  },
  {
   "cell_type": "code",
   "execution_count": null,
   "id": "926ecedb",
   "metadata": {},
   "outputs": [
    {
     "data": {
      "text/plain": [
       "array([-246. ,    1.7, -147. ])"
      ]
     },
     "execution_count": 6,
     "metadata": {},
     "output_type": "execute_result"
    }
   ],
   "source": [
    "get_mapping(np.array([0.,1.7,0.]))"
   ]
  },
  {
   "cell_type": "code",
   "execution_count": null,
   "id": "6aca3ee6",
   "metadata": {},
   "outputs": [
    {
     "data": {
      "text/plain": [
       "296.47058823529414"
      ]
     },
     "execution_count": 21,
     "metadata": {},
     "output_type": "execute_result"
    }
   ],
   "source": [
    "504/1.7"
   ]
  },
  {
   "cell_type": "code",
   "execution_count": null,
   "id": "ee2d7313",
   "metadata": {},
   "outputs": [
    {
     "data": {
      "text/plain": [
       "array([211.,  63.,  61.])"
      ]
     },
     "execution_count": 5,
     "metadata": {},
     "output_type": "execute_result"
    }
   ],
   "source": [
    "centroids[0]"
   ]
  },
  {
   "cell_type": "markdown",
   "id": "139c0838",
   "metadata": {},
   "source": [
    "# get the centroids for user's trajectory"
   ]
  },
  {
   "cell_type": "code",
   "execution_count": null,
   "id": "248eb169",
   "metadata": {},
   "outputs": [],
   "source": [
    "import pandas as pd\n",
    "file_path = '6DoF-HMD-UserNavigationData-master/NavigationData/H1_nav.csv'\n",
    "data = pd.read_csv(file_path)"
   ]
  },
  {
   "cell_type": "code",
   "execution_count": null,
   "id": "f14f440d",
   "metadata": {},
   "outputs": [
    {
     "data": {
      "text/html": [
       "<div>\n",
       "<style scoped>\n",
       "    .dataframe tbody tr th:only-of-type {\n",
       "        vertical-align: middle;\n",
       "    }\n",
       "\n",
       "    .dataframe tbody tr th {\n",
       "        vertical-align: top;\n",
       "    }\n",
       "\n",
       "    .dataframe thead th {\n",
       "        text-align: right;\n",
       "    }\n",
       "</style>\n",
       "<table border=\"1\" class=\"dataframe\">\n",
       "  <thead>\n",
       "    <tr style=\"text-align: right;\">\n",
       "      <th></th>\n",
       "      <th>FrameNumber</th>\n",
       "      <th>HMDPX</th>\n",
       "      <th>HMDPY</th>\n",
       "      <th>HMDPZ</th>\n",
       "      <th>HMDRX</th>\n",
       "      <th>HMDRY</th>\n",
       "      <th>HMDRZ</th>\n",
       "      <th>Participant</th>\n",
       "      <th>Dataset</th>\n",
       "      <th>ViewFrame</th>\n",
       "    </tr>\n",
       "  </thead>\n",
       "  <tbody>\n",
       "    <tr>\n",
       "      <th>0</th>\n",
       "      <td>1</td>\n",
       "      <td>0.0500</td>\n",
       "      <td>1.7868</td>\n",
       "      <td>-1.0947</td>\n",
       "      <td>6.9163</td>\n",
       "      <td>350.8206</td>\n",
       "      <td>359.9912</td>\n",
       "      <td>P01_V1</td>\n",
       "      <td>H1</td>\n",
       "      <td>1</td>\n",
       "    </tr>\n",
       "    <tr>\n",
       "      <th>1</th>\n",
       "      <td>2</td>\n",
       "      <td>0.0498</td>\n",
       "      <td>1.7871</td>\n",
       "      <td>-1.0951</td>\n",
       "      <td>6.9116</td>\n",
       "      <td>351.1272</td>\n",
       "      <td>0.0094</td>\n",
       "      <td>P01_V1</td>\n",
       "      <td>H1</td>\n",
       "      <td>2</td>\n",
       "    </tr>\n",
       "    <tr>\n",
       "      <th>2</th>\n",
       "      <td>3</td>\n",
       "      <td>0.0498</td>\n",
       "      <td>1.7872</td>\n",
       "      <td>-1.0955</td>\n",
       "      <td>6.8915</td>\n",
       "      <td>351.3081</td>\n",
       "      <td>0.0221</td>\n",
       "      <td>P01_V1</td>\n",
       "      <td>H1</td>\n",
       "      <td>3</td>\n",
       "    </tr>\n",
       "    <tr>\n",
       "      <th>3</th>\n",
       "      <td>4</td>\n",
       "      <td>0.0498</td>\n",
       "      <td>1.7870</td>\n",
       "      <td>-1.0961</td>\n",
       "      <td>6.9375</td>\n",
       "      <td>351.5385</td>\n",
       "      <td>359.9731</td>\n",
       "      <td>P01_V1</td>\n",
       "      <td>H1</td>\n",
       "      <td>4</td>\n",
       "    </tr>\n",
       "    <tr>\n",
       "      <th>4</th>\n",
       "      <td>5</td>\n",
       "      <td>0.0497</td>\n",
       "      <td>1.7865</td>\n",
       "      <td>-1.0969</td>\n",
       "      <td>7.1456</td>\n",
       "      <td>351.7421</td>\n",
       "      <td>359.8803</td>\n",
       "      <td>P01_V1</td>\n",
       "      <td>H1</td>\n",
       "      <td>5</td>\n",
       "    </tr>\n",
       "  </tbody>\n",
       "</table>\n",
       "</div>"
      ],
      "text/plain": [
       "   FrameNumber   HMDPX   HMDPY   HMDPZ   HMDRX     HMDRY     HMDRZ  \\\n",
       "0            1  0.0500  1.7868 -1.0947  6.9163  350.8206  359.9912   \n",
       "1            2  0.0498  1.7871 -1.0951  6.9116  351.1272    0.0094   \n",
       "2            3  0.0498  1.7872 -1.0955  6.8915  351.3081    0.0221   \n",
       "3            4  0.0498  1.7870 -1.0961  6.9375  351.5385  359.9731   \n",
       "4            5  0.0497  1.7865 -1.0969  7.1456  351.7421  359.8803   \n",
       "\n",
       "  Participant Dataset  ViewFrame  \n",
       "0      P01_V1      H1          1  \n",
       "1      P01_V1      H1          2  \n",
       "2      P01_V1      H1          3  \n",
       "3      P01_V1      H1          4  \n",
       "4      P01_V1      H1          5  "
      ]
     },
     "execution_count": 60,
     "metadata": {},
     "output_type": "execute_result"
    }
   ],
   "source": [
    "data.head()"
   ]
  },
  {
   "cell_type": "code",
   "execution_count": null,
   "id": "45015ff3",
   "metadata": {},
   "outputs": [],
   "source": [
    "# !pip3 install seaborn"
   ]
  },
  {
   "cell_type": "code",
   "execution_count": 73,
   "id": "8f213053",
   "metadata": {},
   "outputs": [
    {
     "ename": "",
     "evalue": "",
     "output_type": "error",
     "traceback": [
      "\u001b[1;31mThe Kernel crashed while executing code in the the current cell or a previous cell. Please review the code in the cell(s) to identify a possible cause of the failure. Click <a href='https://aka.ms/vscodeJupyterKernelCrash'>here</a> for more info. View Jupyter <a href='command:jupyter.viewOutput'>log</a> for further details."
     ]
    }
   ],
   "source": [
    "# # get the headmap for 'HMDPX','HMDPZ' with fine grained correlation\n",
    "# import seaborn as sns\n",
    "# sns.heatmap(data[['HMDPX','HMDPZ']], annot=True)\n",
    "# sns.show()"
   ]
  },
  {
   "cell_type": "code",
   "execution_count": null,
   "id": "48640d5f",
   "metadata": {},
   "outputs": [],
   "source": [
    "# get the HMDPX\tHMDPY\tHMDPZ from data and get the mean of the points\n",
    "mean = data[['HMDPX','HMDPY','HMDPZ','HMDRX',\t'HMDRY',\t'HMDRZ']].mean()"
   ]
  },
  {
   "cell_type": "code",
   "execution_count": null,
   "id": "f3505a6a",
   "metadata": {},
   "outputs": [
    {
     "data": {
      "text/plain": [
       "HMDPX      0.110921\n",
       "HMDPY      1.782664\n",
       "HMDPZ     -0.534828\n",
       "HMDRX     31.126297\n",
       "HMDRY    149.035818\n",
       "HMDRZ    255.984014\n",
       "dtype: float64"
      ]
     },
     "execution_count": 64,
     "metadata": {},
     "output_type": "execute_result"
    }
   ],
   "source": [
    "mean"
   ]
  },
  {
   "cell_type": "markdown",
   "id": "ef32f80f",
   "metadata": {},
   "source": [
    "# render FoV point cloud data"
   ]
  },
  {
   "cell_type": "code",
   "execution_count": null,
   "id": "fce7de76",
   "metadata": {},
   "outputs": [],
   "source": [
    "from node_feature_utils import parse_trajectory_data\n",
    "import numpy as np\n",
    "trajectory_positions, trajectory_orientations = parse_trajectory_data(\"./6DoF-HMD-UserNavigationData-master/NavigationData/H1_nav.csv\",user_index='P01_V1')"
   ]
  },
  {
   "cell_type": "code",
   "execution_count": null,
   "id": "a4af5597",
   "metadata": {},
   "outputs": [],
   "source": [
    "# 248%150"
   ]
  },
  {
   "cell_type": "code",
   "execution_count": null,
   "id": "262ec256",
   "metadata": {},
   "outputs": [],
   "source": [
    "def rotate_vector(vector, axis, angle):\n",
    "    \"\"\"\n",
    "    Rotate a vector around a given axis by an angle in radians.\n",
    "    Uses Rodrigues' rotation formula.\n",
    "    \"\"\"\n",
    "    axis = axis / np.linalg.norm(axis)\n",
    "    vector_rotated = (vector * np.cos(angle) +\n",
    "                      np.cross(axis, vector) * np.sin(angle) +\n",
    "                      axis * np.dot(axis, vector) * (1 - np.cos(angle)))\n",
    "    return vector_rotated\n",
    "\n",
    "def get_up_vector_from_roll(roll_angle_radians, front_vector):\n",
    "    \"\"\"\n",
    "    Calculate the \"up\" vector given the roll angle and the front vector of the camera.\n",
    "    Assumes roll_angle_degrees is given in degrees and will be converted to radians.\n",
    "    \"\"\"\n",
    "    # Convert roll angle to radians\n",
    "    # roll_angle_radians = np.radians(roll_angle_degrees)\n",
    "    \n",
    "    # Initial \"up\" vector before any rotation\n",
    "    initial_up = np.array([0, 1, 0])\n",
    "    \n",
    "    # Apply roll rotation around the front vector\n",
    "    up_vector = rotate_vector(initial_up, front_vector, roll_angle_radians)\n",
    "    \n",
    "    return up_vector"
   ]
  },
  {
   "cell_type": "code",
   "execution_count": null,
   "id": "2f8dfc35",
   "metadata": {},
   "outputs": [],
   "source": [
    "# %run node_feature_utils.py\n",
    "def rendering_from_node_feature(trajectory_positions,trajectory_orientations,\n",
    "                                trajectory_index):    \n",
    "    \n",
    "    point_cloud_path = '8i/longdress/longdress/Ply/longdress_vox10_'+str(1051+trajectory_index%150)+'.ply'\n",
    "    pcd = o3d.io.read_point_cloud(point_cloud_path)\n",
    "\n",
    "    # change pcd's z axis to -z\n",
    "    # pcd.points = o3d.utility.Vector3dVector(np.array(pcd.points) * np.array([1,1,-1]))\n",
    "    # shift the pcd to the X,Z plane origin with offset be (-246,0,-147)\n",
    "    pcd.points = o3d.utility.Vector3dVector(np.array(pcd.points) - np.array([246,0,147]))\n",
    "\n",
    "    # get XYZ data\n",
    "    selected_position = trajectory_positions[trajectory_index]\n",
    "    para_eye = [i*1024/2 for i in selected_position]\n",
    "    para_eye[2] = -para_eye[2]\n",
    "    # print(para_eye)\n",
    "\n",
    "    pcd_list = []\n",
    "\n",
    "    # get yaw pitch roll and to orientation\n",
    "    selected_orientation = trajectory_orientations[trajectory_index]  # First orientation (yaw, pitch, roll)\n",
    "    pitch, yaw, roll = np.radians(selected_orientation)  # Convert degrees to radians if necessary\n",
    "    # Calculate the direction vector from the orientation\n",
    "    orientation = euler_to_direction(yaw, pitch, roll)\n",
    "    \n",
    "    para_lookat = [para_eye[i]+orientation[i] for i in range(3)]\n",
    "    \n",
    "    roll_angle_radians = roll\n",
    "    front_vector = orientation\n",
    "    my_up = get_up_vector_from_roll(roll_angle_radians, front_vector)\n",
    "    print('my_up',my_up)\n",
    "\n",
    "    o3d.visualization.draw(pcd,lookat=para_lookat,eye=para_eye,up=my_up)\n",
    "    print(para_eye,para_lookat)\n"
   ]
  },
  {
   "cell_type": "code",
   "execution_count": null,
   "id": "186fd6bc",
   "metadata": {},
   "outputs": [],
   "source": []
  },
  {
   "cell_type": "code",
   "execution_count": null,
   "id": "556d787f",
   "metadata": {},
   "outputs": [
    {
     "name": "stdout",
     "output_type": "stream",
     "text": [
      "my_up [-1.50518955e-04  9.99999988e-01 -2.43217891e-05]\n",
      "FEngine (64 bits) created at 0x7f8fe2388000 (threading is enabled)\n",
      "FEngine resolved backend: OpenGL\n"
     ]
    },
    {
     "name": "stderr",
     "output_type": "stream",
     "text": [
      "[error] GLFW error: Cocoa: Failed to find service port for display\n"
     ]
    },
    {
     "name": "stdout",
     "output_type": "stream",
     "text": [
      "[25.6, 914.8416, 560.4864] [25.758365411723155, 914.7211807378168, 559.5063900012424]\n"
     ]
    }
   ],
   "source": [
    "for index in range(1):\n",
    "    rendering_from_node_feature(trajectory_positions,trajectory_orientations,\n",
    "                                trajectory_index=index)\n",
    "# rendering_from_node_feature(trajectory_positions,trajectory_orientations,\n",
    "                                # trajectory_index=10)"
   ]
  },
  {
   "cell_type": "markdown",
   "id": "5152e839",
   "metadata": {},
   "source": [
    "# render animation"
   ]
  },
  {
   "cell_type": "code",
   "execution_count": 1,
   "id": "ad535ba2",
   "metadata": {},
   "outputs": [
    {
     "name": "stdout",
     "output_type": "stream",
     "text": [
      "\u001b[1;33m[Open3D WARNING] GLFW Error: Cocoa: Failed to find service port for display\u001b[0;m\n",
      "\u001b[1;33m[Open3D WARNING] GLFW Error: Cocoa: Failed to find service port for display\u001b[0;m\n",
      "\u001b[1;33m[Open3D WARNING] GLFW Error: Cocoa: Failed to find service port for display\u001b[0;m\n"
     ]
    },
    {
     "name": "stderr",
     "output_type": "stream",
     "text": [
      "  0%|          | 0/1 [00:00<?, ?it/s]"
     ]
    },
    {
     "name": "stdout",
     "output_type": "stream",
     "text": [
      "mean [  1.4253292  502.43736924   3.81382026]\n",
      "eye [25.4976, 914.9952, 560.6912]\n",
      "lookat [25.65072048303669, 914.874862171771, 559.710346838323]\n",
      "orientation [ 0.15312048 -0.12033783 -0.98085316]\n",
      "\u001b[1;33m[Open3D WARNING] GLFW Error: Cocoa: Failed to find service port for display\u001b[0;m\n",
      "\u001b[1;33m[Open3D WARNING] GLFW Error: Cocoa: Failed to find service port for display\u001b[0;m\n",
      "\u001b[1;33m[Open3D WARNING] GLFW Error: Cocoa: Failed to find service port for display\u001b[0;m\n"
     ]
    },
    {
     "name": "stderr",
     "output_type": "stream",
     "text": [
      "100%|██████████| 1/1 [00:41<00:00, 41.01s/it]\n"
     ]
    },
    {
     "ename": "",
     "evalue": "",
     "output_type": "error",
     "traceback": [
      "\u001b[1;31mThe Kernel crashed while executing code in the the current cell or a previous cell. Please review the code in the cell(s) to identify a possible cause of the failure. Click <a href='https://aka.ms/vscodeJupyterKernelCrash'>here</a> for more info. View Jupyter <a href='command:jupyter.viewOutput'>log</a> for further details."
     ]
    }
   ],
   "source": [
    "from node_feature_utils import parse_trajectory_data\n",
    "import numpy as np\n",
    "trajectory_positions, trajectory_orientations = parse_trajectory_data(\"./6DoF-HMD-UserNavigationData-master/NavigationData/H1_nav.csv\",user_index='P01_V1')\n",
    "import open3d as o3d\n",
    "import numpy as np\n",
    "from tqdm import tqdm\n",
    "from node_feature_utils import *\n",
    "# from time import time\n",
    "import time\n",
    "# def euler_to_direction(yaw, pitch, roll):\n",
    "#     # Assuming yaw (Z), pitch (Y), roll (X) in radians for simplicity\n",
    "#     direction = np.array([\n",
    "#         np.cos(yaw) * np.cos(pitch),\n",
    "#         np.sin(pitch),\n",
    "#         np.sin(yaw) * np.cos(pitch)\n",
    "#     ])\n",
    "#     return -direction\n",
    "def rotate_vector(vector, axis, angle):\n",
    "    \"\"\"\n",
    "    Rotate a vector around a given axis by an angle in radians.\n",
    "    Uses Rodrigues' rotation formula.\n",
    "    \"\"\"\n",
    "    axis = axis / np.linalg.norm(axis)\n",
    "    vector_rotated = (vector * np.cos(angle) +\n",
    "                      np.cross(axis, vector) * np.sin(angle) +\n",
    "                      axis * np.dot(axis, vector) * (1 - np.cos(angle)))\n",
    "    return vector_rotated\n",
    "\n",
    "def get_up_vector_from_roll(roll_angle_radians, front_vector):\n",
    "    \"\"\"\n",
    "    Calculate the \"up\" vector given the roll angle and the front vector of the camera.\n",
    "    Assumes roll_angle_degrees is given in degrees and will be converted to radians.\n",
    "    \"\"\"\n",
    "    # Convert roll angle to radians\n",
    "    # roll_angle_radians = np.radians(roll_angle_degrees)\n",
    "    \n",
    "    # Initial \"up\" vector before any rotation\n",
    "    initial_up = np.array([0, 1, 0])\n",
    "    \n",
    "    # Apply roll rotation around the front vector\n",
    "    up_vector = rotate_vector(initial_up, front_vector, roll_angle_radians)\n",
    "    \n",
    "    return up_vector\n",
    "def rendering_animation(trajectory_positions, trajectory_orientations, start_frame, end_frame):\n",
    "    # Create a visualizer\n",
    "    vis = o3d.visualization.Visualizer()\n",
    "    vis.create_window(visible=True)\n",
    "\n",
    "    for trajectory_index in tqdm(range(start_frame, end_frame + 1,30)):\n",
    "        # Load point cloud for the current frame\n",
    "        point_cloud_path = '8i/longdress/longdress/Ply/longdress_vox10_'+str(1051+trajectory_index%150)+'.ply'\n",
    "        pcd = o3d.io.read_point_cloud(point_cloud_path)\n",
    "\n",
    "        # change pcd's z axis to -z\n",
    "        # pcd.points = o3d.utility.Vector3dVector(np.array(pcd.points) * np.array([1,1,-1]))\n",
    "        # shift the pcd to the X,Z plane origin with offset be (-246,0,-147)\n",
    "        pcd.points = o3d.utility.Vector3dVector(np.array(pcd.points) - np.array([246,0,147]))\n",
    "\n",
    "        # get XYZ data\n",
    "        selected_position = trajectory_positions[trajectory_index]\n",
    "        para_eye = [i*1024/2 for i in selected_position]\n",
    "        # para_eye = para_eye + np.array([0,0,0])\n",
    "\n",
    "        para_eye[2] = -para_eye[2]#left hand coordinate system\n",
    "        # print(para_eye)\n",
    "\n",
    "        pcd_list = []\n",
    "\n",
    "        # get yaw pitch roll and to orientation\n",
    "        selected_orientation = trajectory_orientations[trajectory_index]  # First orientation (yaw, pitch, roll)\n",
    "        pitch, yaw, roll = np.radians(selected_orientation)  # Convert degrees to radians if necessary\n",
    "        # Calculate the direction vector from the orientation\n",
    "        orientation = euler_to_direction(yaw, pitch, roll)\n",
    "        \n",
    "        para_lookat = [para_eye[i]+orientation[i] for i in range(3)]\n",
    "        # Clear visualizer and add the current point cloud\n",
    "        vis.clear_geometries()\n",
    "        # Create a coordinate frame at the origin (0,0,0) with a size of 0.1\n",
    "        coordinate_frame = o3d.geometry.TriangleMesh.create_coordinate_frame(size=300, origin=[0, 0, 0])\n",
    "        coordinate_frame1 = o3d.geometry.TriangleMesh.create_coordinate_frame(size=300, origin=para_eye)\n",
    "\n",
    "        # Add your point cloud and the coordinate frame to the visualizer\n",
    "        # vis.add_geometry(pcd)\n",
    "        vis.add_geometry(coordinate_frame)\n",
    "\n",
    "        vis.add_geometry(coordinate_frame1)\n",
    "        vis.add_geometry(pcd)\n",
    "        vis.update_geometry(pcd)\n",
    "        # opt = vis.get_render_option()\n",
    "        # opt.show_coordinate_frame = True\n",
    "        # get the mean of the points\n",
    "        mean = np.mean(np.asarray(pcd.points), axis=0)\n",
    "        print('mean',mean)\n",
    "        # pcd.points\n",
    "\n",
    "        # Update view point\n",
    "        ctr = vis.get_view_control()\n",
    "        ctr.set_lookat(para_lookat)\n",
    "        ctr.set_front(-orientation)\n",
    "        my_up = get_up_vector_from_roll(roll, orientation)\n",
    "        ctr.set_up(my_up)\n",
    "        # ctr.set_zoom(0.6)\n",
    "        print('eye',para_eye)\n",
    "        print('lookat',para_lookat)\n",
    "        print('orientation',orientation)\n",
    "\n",
    "        # Update the renderer and wait so that the visualizer has time to render\n",
    "        vis.poll_events()\n",
    "        vis.update_renderer()\n",
    "        vis.run()\n",
    "        # You can adjust the time to wait between frames, depending on how fast your system is\n",
    "        # time.sleep(1/30)\n",
    "        \n",
    "    # Destroy visualizer window once done\n",
    "    vis.destroy_window()\n",
    "\n",
    "# Replace the following lines with actual trajectory positions and orientations\n",
    "# trajectory_positions = ... # Your trajectory positions array\n",
    "# trajectory_orientations = ... # Your trajectory orientations array\n",
    "start_frame = 1\n",
    "end_frame = 30\n",
    "\n",
    "# Call the function to render the animation\n",
    "rendering_animation(trajectory_positions, trajectory_orientations, start_frame, end_frame)\n"
   ]
  },
  {
   "cell_type": "markdown",
   "id": "19f839ee",
   "metadata": {},
   "source": [
    "mean [  1.4253292  502.43736924   3.81382026]\n",
    "eye [-87.2448, 963.6864, 319.4368]\n",
    "lookat [-87.373027081156, 963.427420801889, 318.4794664162352]\n",
    "orientation [-0.12822708 -0.2589792  -0.95733358]"
   ]
  },
  {
   "cell_type": "code",
   "execution_count": null,
   "id": "a55f827b",
   "metadata": {},
   "outputs": [
    {
     "data": {
      "text/plain": [
       "-2.7755575615628914e-17"
      ]
     },
     "execution_count": 12,
     "metadata": {},
     "output_type": "execute_result"
    }
   ],
   "source": [
    "front = [0.58029561418726316, -0.70582992531785738, 0.40627714270041682]\n",
    "up = [0.52108954142960995, 0.70517583283963015, 0.48082505611876447] \n",
    "# get the product value of two vectors: front and up\n",
    "sum_ = 0\n",
    "for i in range(3):\n",
    "    sum_ += front[i]*up[i]\n",
    "sum_\n"
   ]
  },
  {
   "cell_type": "code",
   "execution_count": null,
   "id": "579b0095",
   "metadata": {},
   "outputs": [],
   "source": [
    "{\n",
    "\t\"class_name\" : \"ViewTrajectory\",\n",
    "\t\"interval\" : 29,\n",
    "\t\"is_loop\" : false,\n",
    "\t\"trajectory\" : \n",
    "\t[\n",
    "\t\t{\n",
    "\t\t\t\"boundingbox_max\" : [ 300.0, 1263.6864, 619.43679999999995 ],\n",
    "\t\t\t\"boundingbox_min\" : [ -145.0, -18.0, -130.0 ],\n",
    "\t\t\t\"field_of_view\" : 60.0,\n",
    "\t\t\t\"front\" : [ 0.12822708115599465, 0.25897919811108483, 0.95733358376479905 ],\n",
    "\t\t\t\"lookat\" : [ -87.373027081155996, 963.42742080188896, 318.4794664162352 ],\n",
    "\t\t\t\"up\" : [ -0.032416188434195005, 0.99946438632132895, 0.004486780886999971 ],\n",
    "\t\t\t\"zoom\" : 0.69999999999999996\n",
    "\t\t}\n",
    "\t],\n",
    "\t\"version_major\" : 1,\n",
    "\t\"version_minor\" : 0\n",
    "}"
   ]
  },
  {
   "cell_type": "markdown",
   "id": "2a7de21f",
   "metadata": {},
   "source": [
    "# front and up"
   ]
  },
  {
   "cell_type": "code",
   "execution_count": null,
   "id": "412e7377",
   "metadata": {},
   "outputs": [
    {
     "name": "stdout",
     "output_type": "stream",
     "text": [
      "Up vector: [-0.5         0.70710678  0.5       ]\n"
     ]
    },
    {
     "data": {
      "text/plain": [
       "0.0"
      ]
     },
     "execution_count": 58,
     "metadata": {},
     "output_type": "execute_result"
    }
   ],
   "source": [
    "import numpy as np\n",
    "\n",
    "def rotate_vector(vector, axis, angle):\n",
    "    \"\"\"\n",
    "    Rotate a vector around a given axis by an angle in radians using Rodrigues' rotation formula.\n",
    "    \"\"\"\n",
    "    axis = axis / np.linalg.norm(axis)\n",
    "    vector_rotated = (vector * np.cos(angle) +\n",
    "                      np.cross(axis, vector) * np.sin(angle) +\n",
    "                      axis * np.dot(axis, vector) * (1 - np.cos(angle)))\n",
    "    return vector_rotated\n",
    "\n",
    "def get_up_vector(front, roll_angle):\n",
    "    \"\"\"\n",
    "    Calculate the \"up\" vector given the \"front\" vector and a roll angle in radians.\n",
    "    Assumes the initial \"up\" vector is the global up (0, 1, 0).\n",
    "    \"\"\"\n",
    "    # Ensure the front vector is normalized\n",
    "    front = front / np.linalg.norm(front)\n",
    "    \n",
    "    # Default \"up\" vector (global up)\n",
    "    up_default = np.array([0, 1, 0])\n",
    "    \n",
    "    # Calculate \"right\" vector as the cross product of \"front\" and \"up\"\n",
    "    right = np.cross(front, up_default)\n",
    "    3\n",
    "    # If \"front\" is parallel to \"up_default\", adjust \"right\"\n",
    "    if np.linalg.norm(right) < 1e-8:\n",
    "        # Use an alternative \"up\" vector if \"front\" is (or close to) parallel to the global up\n",
    "        up_default = np.array([0, 0, 1])\n",
    "        right = np.cross(front, up_default)\n",
    "    \n",
    "    # Normalize the \"right\" vector\n",
    "    right = right / np.linalg.norm(right)\n",
    "    \n",
    "    # Rotate the \"up_default\" vector around the \"front\" vector by the roll angle\n",
    "    up = rotate_vector(up_default, front, roll_angle)\n",
    "    \n",
    "    return up\n",
    "\n",
    "# Example usage\n",
    "# front = np.array([ 0. ,        -0.20312055 ,-0.97834484])  # Assuming a front vector pointing in the negative z direction\n",
    "# roll_angle = np.radians(45)  # Roll angle in radians\n",
    "\n",
    "front = np.array([0.70710678, 0.   ,      0.70710678])  # Assuming a front vector pointing in the negative z direction\n",
    "roll_angle = np.radians(45)  # Roll angle in radians\n",
    "# roll_angle = 0.00202\n",
    "up_vector = get_up_vector(front, roll_angle)\n",
    "print(\"Up vector:\", up_vector)\n",
    "# write a code to verify the my_up vector is orthogonal to front_vector\n",
    "np.dot(front,up_vector)\n",
    "\n"
   ]
  },
  {
   "cell_type": "markdown",
   "id": "e7f1682f",
   "metadata": {},
   "source": []
  },
  {
   "cell_type": "code",
   "execution_count": null,
   "id": "e9c5dcf8",
   "metadata": {},
   "outputs": [
    {
     "name": "stdout",
     "output_type": "stream",
     "text": [
      "-0.20312055\n"
     ]
    }
   ],
   "source": [
    "sum_ = 0\n",
    "for i in range(3):\n",
    "    sum_ += front[i]*up_vector[i]\n",
    "\n",
    "print(sum_)"
   ]
  },
  {
   "cell_type": "code",
   "execution_count": 2,
   "id": "6f50473d",
   "metadata": {},
   "outputs": [
    {
     "ename": "AttributeError",
     "evalue": "'open3d.cpu.pybind.visualization.rendering.Open3DSc' object has no attribute 'update_geometry'",
     "output_type": "error",
     "traceback": [
      "\u001b[0;31m---------------------------------------------------------------------------\u001b[0m",
      "\u001b[0;31mAttributeError\u001b[0m                            Traceback (most recent call last)",
      "\u001b[1;32m/Users/chenli/research/point cloud/Untitled.ipynb Cell 47\u001b[0m line \u001b[0;36m3\n\u001b[1;32m     <a href='vscode-notebook-cell:/Users/chenli/research/point%20cloud/Untitled.ipynb#X64sZmlsZQ%3D%3D?line=28'>29</a>\u001b[0m         app\u001b[39m.\u001b[39mrun_one_tick()\n\u001b[1;32m     <a href='vscode-notebook-cell:/Users/chenli/research/point%20cloud/Untitled.ipynb#X64sZmlsZQ%3D%3D?line=29'>30</a>\u001b[0m         time\u001b[39m.\u001b[39msleep(\u001b[39m0.1\u001b[39m)\n\u001b[0;32m---> <a href='vscode-notebook-cell:/Users/chenli/research/point%20cloud/Untitled.ipynb#X64sZmlsZQ%3D%3D?line=31'>32</a>\u001b[0m animate_geometry()\n",
      "\u001b[1;32m/Users/chenli/research/point cloud/Untitled.ipynb Cell 47\u001b[0m line \u001b[0;36m2\n\u001b[1;32m     <a href='vscode-notebook-cell:/Users/chenli/research/point%20cloud/Untitled.ipynb#X64sZmlsZQ%3D%3D?line=22'>23</a>\u001b[0m R \u001b[39m=\u001b[39m mesh\u001b[39m.\u001b[39mget_rotation_matrix_from_xyz((\u001b[39m0.01\u001b[39m \u001b[39m*\u001b[39m i, \u001b[39m0.02\u001b[39m \u001b[39m*\u001b[39m i, \u001b[39m0\u001b[39m))\n\u001b[1;32m     <a href='vscode-notebook-cell:/Users/chenli/research/point%20cloud/Untitled.ipynb#X64sZmlsZQ%3D%3D?line=23'>24</a>\u001b[0m mesh\u001b[39m.\u001b[39mrotate(R, center\u001b[39m=\u001b[39m(\u001b[39m0\u001b[39m, \u001b[39m0\u001b[39m, \u001b[39m0\u001b[39m))\n\u001b[0;32m---> <a href='vscode-notebook-cell:/Users/chenli/research/point%20cloud/Untitled.ipynb#X64sZmlsZQ%3D%3D?line=24'>25</a>\u001b[0m widget3d\u001b[39m.\u001b[39;49mscene\u001b[39m.\u001b[39;49mupdate_geometry(\u001b[39m\"\u001b[39m\u001b[39mmesh\u001b[39m\u001b[39m\"\u001b[39m, mesh)\n\u001b[1;32m     <a href='vscode-notebook-cell:/Users/chenli/research/point%20cloud/Untitled.ipynb#X64sZmlsZQ%3D%3D?line=26'>27</a>\u001b[0m \u001b[39m# This is necessary to update the window\u001b[39;00m\n\u001b[1;32m     <a href='vscode-notebook-cell:/Users/chenli/research/point%20cloud/Untitled.ipynb#X64sZmlsZQ%3D%3D?line=27'>28</a>\u001b[0m app\u001b[39m.\u001b[39mpost_redraw()\n",
      "\u001b[0;31mAttributeError\u001b[0m: 'open3d.cpu.pybind.visualization.rendering.Open3DSc' object has no attribute 'update_geometry'"
     ]
    }
   ],
   "source": [
    "import open3d as o3d\n",
    "import numpy as np\n",
    "import time\n",
    "\n",
    "def animate_geometry():\n",
    "    # Create a window\n",
    "    app = o3d.visualization.gui.Application.instance\n",
    "    app.initialize()\n",
    "    window = o3d.visualization.gui.Application.instance.create_window(\"Animation\", 1024, 768)\n",
    "\n",
    "    # Setup scene\n",
    "    widget3d = o3d.visualization.gui.SceneWidget()\n",
    "    widget3d.scene = o3d.visualization.rendering.Open3DScene(window.renderer)\n",
    "    window.add_child(widget3d)\n",
    "\n",
    "    # Add geometry to the scene\n",
    "    mesh = o3d.geometry.TriangleMesh.create_coordinate_frame()\n",
    "    widget3d.scene.add_geometry(\"mesh\", mesh, o3d.visualization.rendering.MaterialRecord())\n",
    "\n",
    "    # Animation loop\n",
    "    for i in range(100):\n",
    "        # Update geometry here\n",
    "        R = mesh.get_rotation_matrix_from_xyz((0.01 * i, 0.02 * i, 0))\n",
    "        mesh.rotate(R, center=(0, 0, 0))\n",
    "        widget3d.scene.update_geometry(\"mesh\", mesh)\n",
    "\n",
    "        # This is necessary to update the window\n",
    "        app.post_redraw()\n",
    "        app.run_one_tick()\n",
    "        time.sleep(0.1)\n",
    "\n",
    "animate_geometry()\n"
   ]
  },
  {
   "cell_type": "code",
   "execution_count": 3,
   "id": "7a7d5d46",
   "metadata": {},
   "outputs": [],
   "source": [
    "folder_path = './result/30s/'\n",
    "import os\n",
    "import time\n",
    "import matplotlib.pyplot as plt\n",
    "import matplotlib.image as mpimg\n",
    "import matplotlib.animation as animation\n",
    "# merge all png figures under a folder_path into a gif set the interval to 1000ms\n",
    "def make_gif(folder_path):\n",
    "    # get all the files under the folder_path\n",
    "    files = os.listdir(folder_path)\n",
    "    # sort the files\n",
    "    files.sort()\n",
    "    # get the images\n",
    "    images = []\n",
    "    for file in files:\n",
    "        if file.endswith('.png'):\n",
    "            images.append(mpimg.imread(folder_path+file))\n",
    "    # create a gif\n",
    "    fig = plt.figure()\n",
    "    plt.axis('off')\n",
    "    ims = []\n",
    "    for image in images:\n",
    "        im = plt.imshow(image, animated=True)\n",
    "        ims.append([im])\n",
    "    ani = animation.ArtistAnimation(fig, ims, interval=100, blit=True, repeat_delay=1000)\n",
    "    ani.save(folder_path+'animation.gif', writer='imagemagick')\n",
    "    # plt.show()\n",
    "    return ani"
   ]
  },
  {
   "cell_type": "code",
   "execution_count": 4,
   "id": "8dfb5267",
   "metadata": {},
   "outputs": [
    {
     "data": {
      "text/plain": [
       "<matplotlib.animation.ArtistAnimation at 0x7fd8d86febc0>"
      ]
     },
     "execution_count": 4,
     "metadata": {},
     "output_type": "execute_result"
    },
    {
     "data": {
      "image/png": "[encoded data removed]",
      "text/plain": [
       "<Figure size 640x480 with 1 Axes>"
      ]
     },
     "metadata": {},
     "output_type": "display_data"
    }
   ],
   "source": [
    "make_gif(folder_path)"
   ]
  },
  {
   "cell_type": "markdown",
   "id": "de20a332",
   "metadata": {},
   "source": [
    "# get in FoV feature"
   ]
  },
  {
   "cell_type": "code",
   "execution_count": 5,
   "id": "0bc4209b",
   "metadata": {},
   "outputs": [
    {
     "data": {
      "text/plain": [
       "array([[211.        ,  63.        ,  61.        ],\n",
       "       [210.        ,  63.        ,  63.        ],\n",
       "       [211.        ,  62.        ,  63.        ],\n",
       "       ...,\n",
       "       [345.95309061, 716.99537057, 139.92759105],\n",
       "       [349.59354197, 272.54705848, 167.02479155],\n",
       "       [187.91160369, 922.94284691, 264.26724389]])"
      ]
     },
     "execution_count": 5,
     "metadata": {},
     "output_type": "execute_result"
    }
   ],
   "source": [
    "np.array(pcd.points)"
   ]
  },
  {
   "cell_type": "code",
   "execution_count": 10,
   "id": "e522804b",
   "metadata": {},
   "outputs": [
    {
     "ename": "",
     "evalue": "",
     "output_type": "error",
     "traceback": [
      "\u001b[1;31mCannot execute code, session has been disposed. Please try restarting the Kernel."
     ]
    },
    {
     "ename": "",
     "evalue": "",
     "output_type": "error",
     "traceback": [
      "\u001b[1;31mThe Kernel crashed while executing code in the the current cell or a previous cell. Please review the code in the cell(s) to identify a possible cause of the failure. Click <a href='https://aka.ms/vscodeJupyterKernelCrash'>here</a> for more info. View Jupyter <a href='command:jupyter.viewOutput'>log</a> for further details."
     ]
    }
   ],
   "source": [
    "import numpy as np\n",
    "import open3d as o3d\n",
    "\n",
    "# Load your point cloud\n",
    "point_cloud_path = '8i/longdress/longdress/Ply/longdress_vox10_1051.ply'\n",
    "pcd = o3d.io.read_point_cloud(point_cloud_path)\n",
    "# randomly add 100 new points in the current point cloud uniformly distributed in the current point cloud space\n",
    "new_points = np.random.uniform(np.min(np.asarray(pcd.points)-1000, axis=0),\n",
    "                                np.max(np.asarray(pcd.points)+1000, axis=0),\n",
    "                                size=(100000, 3))\n",
    "# add color to the new_points\n",
    "# new_colors = np.random.uniform(0, 1, size=(10000, 3))\n",
    "# set color as 0\n",
    "new_colors = np.ones((10000, 3))\n",
    "\n",
    "# Create a new point cloud from the new points\n",
    "new_pcd = o3d.geometry.PointCloud()\n",
    "new_pcd.points = o3d.utility.Vector3dVector(new_points)\n",
    "new_pcd.colors = o3d.utility.Vector3dVector(new_colors)\n",
    "# Visualize the new point cloud\n",
    "# o3d.visualization.draw_geometries([new_pcd])\n",
    "\n",
    "# Add the new points to the current point cloud\n",
    "# pcd.points = o3d.utility.Vector3dVector(np.vstack((np.asarray(pcd.points), new_points)))\n",
    "\n",
    "o3d.visualization.draw([pcd,new_pcd])\n",
    "# import pdb; pdb.set_trace()\n",
    "# merge the new_pcd to the pcd\n",
    "pcd += new_pcd\n",
    "\n",
    "# Define camera intrinsic parameters (example values)\n",
    "# fx, fy = 525, 525 # Focal length\n",
    "fx, fy = 1000, 1000 # Focal length\n",
    "cx, cy = 640, 360 # Principal point\n",
    "intrinsic_matrix = np.array([[fx, 0, cx],\n",
    " [0, fy, cy],\n",
    " [0, 0, 1]])\n",
    "\n",
    "# Define camera extrinsic parameters (example values for rotation and translation)\n",
    "R = np.eye(3) # Identity matrix for rotation\n",
    "t = -np.array([[446], [500], [500]]) # Translation\n",
    "# get 4*4 extrinsic matrix from R and t\n",
    "extrinsic_matrix = np.hstack((R, t))\n",
    "extrinsic_matrix = np.vstack((extrinsic_matrix, np.array([0, 0, 0, 1])))\n",
    "\n",
    "points = np.asarray(pcd.points)\n",
    "# Transform point cloud to camera coordinate system\n",
    "points_homogeneous = np.hstack((np.asarray(pcd.points), np.ones((len(pcd.points), 1))))\n",
    "\n",
    "camera_coord_points = (R @ points_homogeneous.T[:3] + t).T\n",
    "\n",
    "# Project points onto the image plane\n",
    "# camera_coord_points = np.hstack((camera_coord_points, np.ones((len(pcd.points), 1))))\n",
    "projected_points = intrinsic_matrix @ camera_coord_points.T\n",
    "projected_points /= projected_points[2, :] # Normalize by the third (z) component\n",
    "\n",
    "# Filter points based on image dimensions (example dimensions)\n",
    "image_width, image_height = 1280, 720\n",
    "in_fov_indices = np.where((projected_points[0, :] >= 0) & (projected_points[0, :] < image_width) &\n",
    " (projected_points[1, :] >= 0) & (projected_points[1, :] < image_height))\n",
    "\n",
    "filtered_points = np.array(pcd.points)[in_fov_indices]\n",
    "\n",
    "# Create a new point cloud from filtered points\n",
    "filtered_pcd = o3d.geometry.PointCloud()\n",
    "filtered_pcd.points = o3d.utility.Vector3dVector(filtered_points)\n",
    "# save the filtered point cloud to ply file\n",
    "o3d.io.write_point_cloud(\"./result/FoV_filtered_point_cloud_example.ply\", filtered_pcd, write_ascii=True)\n",
    "# Visualize the filtered point cloud\n",
    "eye = np.array([28.330666666666666,1016.7182222222222,623.2177777777778])\n",
    "para_lookat = eye + np.array([0, 0, -1])\n",
    "\n",
    "# intrinsic_matrix = np.array([[525, 0, 640],\n",
    "#  [0, 525, 360],\n",
    "#  [0, 0, 1]])\n",
    "# extrinsic_matrix = np.hstack((R, t))\n",
    "# o3d.visualization.draw(geometry=[filtered_pcd],intrinsic_matrix=intrinsic_matrix, extrinsic_matrix=extrinsic_matrix)\n",
    "o3d.visualization.draw(geometry=[filtered_pcd],lookat=para_lookat,eye=eye,up=[0,1,0])\n"
   ]
  },
  {
   "cell_type": "code",
   "execution_count": 9,
   "id": "a38d2ee1",
   "metadata": {},
   "outputs": [
    {
     "data": {
      "text/plain": [
       "array([[ 1.00000000e+00,  0.00000000e+00,  0.00000000e+00,\n",
       "        -2.83306667e+01],\n",
       "       [ 0.00000000e+00,  1.00000000e+00,  0.00000000e+00,\n",
       "        -1.01671822e+03],\n",
       "       [ 0.00000000e+00,  0.00000000e+00,  1.00000000e+00,\n",
       "        -6.23217778e+02]])"
      ]
     },
     "execution_count": 9,
     "metadata": {},
     "output_type": "execute_result"
    }
   ],
   "source": [
    "extrinsic_matrix\n",
    "# intrinsic_matrix"
   ]
  },
  {
   "cell_type": "code",
   "execution_count": 13,
   "id": "670e7808",
   "metadata": {},
   "outputs": [
    {
     "data": {
      "text/plain": [
       "array([[  1.,   0.,   0., 446.],\n",
       "       [  0.,   1.,   0., 500.],\n",
       "       [  0.,   0.,   1., 500.],\n",
       "       [  0.,   0.,   0.,   1.]])"
      ]
     },
     "execution_count": 13,
     "metadata": {},
     "output_type": "execute_result"
    }
   ],
   "source": [
    "R = np.eye(3) # Identity matrix for rotation\n",
    "t = np.array([[446], [500], [500]]) # Translation\n",
    "# get 4*4 extrinsic matrix from R and t\n",
    "extrinsic_matrix = np.hstack((R, t))\n",
    "extrinsic_matrix = np.vstack((extrinsic_matrix, np.array([0, 0, 0, 1])))\n",
    "extrinsic_matrix"
   ]
  },
  {
   "cell_type": "code",
   "execution_count": null,
   "id": "5e4e9502",
   "metadata": {},
   "outputs": [],
   "source": []
  },
  {
   "cell_type": "code",
   "execution_count": 1,
   "id": "5a16b011",
   "metadata": {},
   "outputs": [
    {
     "name": "stdout",
     "output_type": "stream",
     "text": [
      "\u001b[1;33m[Open3D WARNING] GLFW Error: Cocoa: Failed to find service port for display\u001b[0;m\n",
      "\u001b[1;33m[Open3D WARNING] GLFW Error: Cocoa: Failed to find service port for display\u001b[0;m\n",
      "\u001b[1;33m[Open3D WARNING] GLFW Error: Cocoa: Failed to find service port for display\u001b[0;m\n"
     ]
    },
    {
     "ename": "LinAlgError",
     "evalue": "Last 2 dimensions of the array must be square",
     "output_type": "error",
     "traceback": [
      "\u001b[0;31m---------------------------------------------------------------------------\u001b[0m",
      "\u001b[0;31mLinAlgError\u001b[0m                               Traceback (most recent call last)",
      "\u001b[1;32m/Users/chenli/research/point cloud/Untitled.ipynb Cell 52\u001b[0m line \u001b[0;36m5\n\u001b[1;32m     <a href='vscode-notebook-cell:/Users/chenli/research/point%20cloud/Untitled.ipynb#Y102sZmlsZQ%3D%3D?line=53'>54</a>\u001b[0m \u001b[39m# Calculate rotation matrix and set up camera\u001b[39;00m\n\u001b[1;32m     <a href='vscode-notebook-cell:/Users/chenli/research/point%20cloud/Untitled.ipynb#Y102sZmlsZQ%3D%3D?line=54'>55</a>\u001b[0m rotation_matrix \u001b[39m=\u001b[39m euler_to_rotation_matrix(yaw, pitch, roll)\n\u001b[0;32m---> <a href='vscode-notebook-cell:/Users/chenli/research/point%20cloud/Untitled.ipynb#Y102sZmlsZQ%3D%3D?line=55'>56</a>\u001b[0m setup_camera(vis, [x, y, z], rotation_matrix)\n\u001b[1;32m     <a href='vscode-notebook-cell:/Users/chenli/research/point%20cloud/Untitled.ipynb#Y102sZmlsZQ%3D%3D?line=57'>58</a>\u001b[0m \u001b[39m# Run the visualizer\u001b[39;00m\n\u001b[1;32m     <a href='vscode-notebook-cell:/Users/chenli/research/point%20cloud/Untitled.ipynb#Y102sZmlsZQ%3D%3D?line=58'>59</a>\u001b[0m vis\u001b[39m.\u001b[39mrun()\n",
      "\u001b[1;32m/Users/chenli/research/point cloud/Untitled.ipynb Cell 52\u001b[0m line \u001b[0;36m3\n\u001b[1;32m     <a href='vscode-notebook-cell:/Users/chenli/research/point%20cloud/Untitled.ipynb#Y102sZmlsZQ%3D%3D?line=34'>35</a>\u001b[0m cam_params \u001b[39m=\u001b[39m ctr\u001b[39m.\u001b[39mconvert_to_pinhole_camera_parameters()\n\u001b[1;32m     <a href='vscode-notebook-cell:/Users/chenli/research/point%20cloud/Untitled.ipynb#Y102sZmlsZQ%3D%3D?line=36'>37</a>\u001b[0m \u001b[39m# Set camera position\u001b[39;00m\n\u001b[0;32m---> <a href='vscode-notebook-cell:/Users/chenli/research/point%20cloud/Untitled.ipynb#Y102sZmlsZQ%3D%3D?line=37'>38</a>\u001b[0m cam_params\u001b[39m.\u001b[39mextrinsic \u001b[39m=\u001b[39m np\u001b[39m.\u001b[39;49mlinalg\u001b[39m.\u001b[39;49minv(np\u001b[39m.\u001b[39;49mhstack((rotation_matrix, np\u001b[39m.\u001b[39;49marray(position)\u001b[39m.\u001b[39;49mreshape(\u001b[39m-\u001b[39;49m\u001b[39m1\u001b[39;49m,\u001b[39m1\u001b[39;49m))))\n\u001b[1;32m     <a href='vscode-notebook-cell:/Users/chenli/research/point%20cloud/Untitled.ipynb#Y102sZmlsZQ%3D%3D?line=39'>40</a>\u001b[0m ctr\u001b[39m.\u001b[39mconvert_from_pinhole_camera_parameters(cam_params)\n",
      "File \u001b[0;32m<__array_function__ internals>:200\u001b[0m, in \u001b[0;36minv\u001b[0;34m(*args, **kwargs)\u001b[0m\n",
      "File \u001b[0;32m~/opt/anaconda3/envs/pointcloud/lib/python3.10/site-packages/numpy/linalg/linalg.py:533\u001b[0m, in \u001b[0;36minv\u001b[0;34m(a)\u001b[0m\n\u001b[1;32m    531\u001b[0m a, wrap \u001b[39m=\u001b[39m _makearray(a)\n\u001b[1;32m    532\u001b[0m _assert_stacked_2d(a)\n\u001b[0;32m--> 533\u001b[0m _assert_stacked_square(a)\n\u001b[1;32m    534\u001b[0m t, result_t \u001b[39m=\u001b[39m _commonType(a)\n\u001b[1;32m    536\u001b[0m signature \u001b[39m=\u001b[39m \u001b[39m'\u001b[39m\u001b[39mD->D\u001b[39m\u001b[39m'\u001b[39m \u001b[39mif\u001b[39;00m isComplexType(t) \u001b[39melse\u001b[39;00m \u001b[39m'\u001b[39m\u001b[39md->d\u001b[39m\u001b[39m'\u001b[39m\n",
      "File \u001b[0;32m~/opt/anaconda3/envs/pointcloud/lib/python3.10/site-packages/numpy/linalg/linalg.py:190\u001b[0m, in \u001b[0;36m_assert_stacked_square\u001b[0;34m(*arrays)\u001b[0m\n\u001b[1;32m    188\u001b[0m m, n \u001b[39m=\u001b[39m a\u001b[39m.\u001b[39mshape[\u001b[39m-\u001b[39m\u001b[39m2\u001b[39m:]\n\u001b[1;32m    189\u001b[0m \u001b[39mif\u001b[39;00m m \u001b[39m!=\u001b[39m n:\n\u001b[0;32m--> 190\u001b[0m     \u001b[39mraise\u001b[39;00m LinAlgError(\u001b[39m'\u001b[39m\u001b[39mLast 2 dimensions of the array must be square\u001b[39m\u001b[39m'\u001b[39m)\n",
      "\u001b[0;31mLinAlgError\u001b[0m: Last 2 dimensions of the array must be square"
     ]
    }
   ],
   "source": [
    "# rendering user extrinsic and intrinsic matrix\n",
    "import open3d as o3d\n",
    "import numpy as np\n",
    "point_cloud_path = '8i/longdress/longdress/Ply/longdress_vox10_1051.ply'\n",
    "pcd = o3d.io.read_point_cloud(point_cloud_path)\n",
    "\n",
    "def euler_to_rotation_matrix(yaw, pitch, roll):\n",
    "    # Assuming the angles are provided in degrees, convert them to radians\n",
    "    yaw, pitch, roll = np.radians([yaw, pitch, roll])\n",
    "    \n",
    "    Rz = np.array([\n",
    "        [np.cos(roll), -np.sin(roll), 0],\n",
    "        [np.sin(roll), np.cos(roll), 0],\n",
    "        [0, 0, 1]\n",
    "    ])\n",
    "    \n",
    "    Ry = np.array([\n",
    "        [np.cos(yaw), 0, np.sin(yaw)],\n",
    "        [0, 1, 0],\n",
    "        [-np.sin(yaw), 0, np.cos(yaw)]\n",
    "    ])\n",
    "    \n",
    "    Rx = np.array([\n",
    "        [1, 0, 0],\n",
    "        [0, np.cos(pitch), -np.sin(pitch)],\n",
    "        [0, np.sin(pitch), np.cos(pitch)]\n",
    "    ])\n",
    "    \n",
    "    # Combine rotations\n",
    "    R = Rz @ Ry @ Rx\n",
    "    return R\n",
    "\n",
    "def setup_camera(viewer, position, rotation_matrix):\n",
    "    ctr = viewer.get_view_control()\n",
    "    cam_params = ctr.convert_to_pinhole_camera_parameters()\n",
    "    \n",
    "    # Set camera position\n",
    "    cam_params.extrinsic = np.linalg.inv(np.hstack((rotation_matrix, np.array(position).reshape(-1,1))))\n",
    "    \n",
    "    ctr.convert_from_pinhole_camera_parameters(cam_params)\n",
    "\n",
    "# Load point cloud\n",
    "# pcd = o3d.io.read_point_cloud(\"path_to_point_cloud.ply\")\n",
    "\n",
    "# Define FoV coordinates\n",
    "x, y, z = 246, 500, 147\n",
    "yaw, pitch, roll = 0, 0, 0  # angles in degrees\n",
    "\n",
    "# Setup visualizer\n",
    "vis = o3d.visualization.Visualizer()\n",
    "vis.create_window()\n",
    "vis.add_geometry(pcd)\n",
    "\n",
    "# Calculate rotation matrix and set up camera\n",
    "rotation_matrix = euler_to_rotation_matrix(yaw, pitch, roll)\n",
    "setup_camera(vis, [x, y, z], rotation_matrix)\n",
    "\n",
    "# Run the visualizer\n",
    "vis.run()\n",
    "vis.destroy_window()\n"
   ]
  },
  {
   "cell_type": "code",
   "execution_count": 3,
   "id": "ef636a2f",
   "metadata": {},
   "outputs": [],
   "source": [
    "# import open3d as o3d\n",
    "import numpy as np\n",
    "a = np.array([1,2,3])\n",
    "b = np.array([4,5,6])\n",
    "import pdb\n",
    "pdb.set_trace()\n",
    "c = a + b"
   ]
  },
  {
   "cell_type": "code",
   "execution_count": 5,
   "id": "860eed1f",
   "metadata": {},
   "outputs": [
    {
     "name": "stdout",
     "output_type": "stream",
     "text": [
      "--Call--\n",
      "> \u001b[0;32m/Users/chenli/opt/anaconda3/envs/pointcloud/lib/python3.10/site-packages/IPython/core/displayhook.py\u001b[0m(252)\u001b[0;36m__call__\u001b[0;34m()\u001b[0m\n",
      "\u001b[0;32m    250 \u001b[0;31m        \u001b[0msys\u001b[0m\u001b[0;34m.\u001b[0m\u001b[0mstdout\u001b[0m\u001b[0;34m.\u001b[0m\u001b[0mflush\u001b[0m\u001b[0;34m(\u001b[0m\u001b[0;34m)\u001b[0m\u001b[0;34m\u001b[0m\u001b[0;34m\u001b[0m\u001b[0m\n",
      "\u001b[0m\u001b[0;32m    251 \u001b[0;31m\u001b[0;34m\u001b[0m\u001b[0m\n",
      "\u001b[0m\u001b[0;32m--> 252 \u001b[0;31m    \u001b[0;32mdef\u001b[0m \u001b[0m__call__\u001b[0m\u001b[0;34m(\u001b[0m\u001b[0mself\u001b[0m\u001b[0;34m,\u001b[0m \u001b[0mresult\u001b[0m\u001b[0;34m=\u001b[0m\u001b[0;32mNone\u001b[0m\u001b[0;34m)\u001b[0m\u001b[0;34m:\u001b[0m\u001b[0;34m\u001b[0m\u001b[0;34m\u001b[0m\u001b[0m\n",
      "\u001b[0m\u001b[0;32m    253 \u001b[0;31m        \"\"\"Printing with history cache management.\n",
      "\u001b[0m\u001b[0;32m    254 \u001b[0;31m\u001b[0;34m\u001b[0m\u001b[0m\n",
      "\u001b[0m\n"
     ]
    }
   ],
   "source": [
    "pdb.set_trace()"
   ]
  },
  {
   "cell_type": "code",
   "execution_count": 9,
   "id": "88428bf4",
   "metadata": {},
   "outputs": [
    {
     "name": "stdout",
     "output_type": "stream",
     "text": [
      "Debugger is not active\n"
     ]
    }
   ],
   "source": [
    "import os\n",
    "\n",
    "if 'PYDEV_DEBUG' in os.environ:\n",
    "    print(\"Debugger is active\")\n",
    "else:\n",
    "    print(\"Debugger is not active\")\n"
   ]
  },
  {
   "cell_type": "markdown",
   "id": "bcae81eb",
   "metadata": {},
   "source": [
    "# intrinsic and extrinsic matrixs"
   ]
  },
  {
   "cell_type": "code",
   "execution_count": 8,
   "id": "f63e12af",
   "metadata": {},
   "outputs": [],
   "source": [
    "import open3d as o3d\n",
    "import numpy as np\n",
    "\n",
    "a = o3d.camera.PinholeCameraIntrinsic.intrinsic_matrix"
   ]
  },
  {
   "cell_type": "code",
   "execution_count": 11,
   "id": "3cb4a214",
   "metadata": {},
   "outputs": [
    {
     "data": {
      "text/plain": [
       "<PinholeCameraIntrinsicParameters.PrimeSenseDefault: 0>"
      ]
     },
     "execution_count": 11,
     "metadata": {},
     "output_type": "execute_result"
    }
   ],
   "source": [
    "o3d.camera.PinholeCameraIntrinsicParameters.PrimeSenseDefault"
   ]
  },
  {
   "cell_type": "code",
   "execution_count": 14,
   "id": "681ffff6",
   "metadata": {},
   "outputs": [
    {
     "name": "stdout",
     "output_type": "stream",
     "text": [
      "[[525.    0.  319.5]\n",
      " [  0.  525.  239.5]\n",
      " [  0.    0.    1. ]]\n"
     ]
    }
   ],
   "source": [
    "intrinsic = o3d.camera.PinholeCameraIntrinsic(o3d.camera.PinholeCameraIntrinsicParameters.PrimeSenseDefault)\n",
    "print(intrinsic.intrinsic_matrix)"
   ]
  }
 ],
 "metadata": {
  "kernelspec": {
   "display_name": "Python 3 (ipykernel)",
   "language": "python",
   "name": "python3"
  },
  "language_info": {
   "codemirror_mode": {
    "name": "ipython",
    "version": 3
   },
   "file_extension": ".py",
   "mimetype": "text/x-python",
   "name": "python",
   "nbconvert_exporter": "python",
   "pygments_lexer": "ipython3",
   "version": "3.10.9"
  }
 },
 "nbformat": 4,
 "nbformat_minor": 5
}

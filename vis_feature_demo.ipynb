{
 "cells": [
  {
   "cell_type": "code",
   "execution_count": 7,
   "metadata": {},
   "outputs": [],
   "source": [
    "import open3d as o3d\n",
    "import warnings\n",
    "import pdb\n",
    "import os\n",
    "import numpy as np\n",
    "import open3d as o3d\n",
    "import re\n",
    "import matplotlib.pyplot as plt\n",
    "import scipy.stats as stats\n",
    "import pandas as pd\n",
    "from voxel_grid import *\n",
    "\n",
    "\n",
    "# Visualize the point cloud\n",
    "# o3d.visualization.draw_geometries([point_cloud])\n",
    "import numpy as np\n",
    "import os\n",
    "from collections import defaultdict\n",
    "import matplotlib.pyplot as plt\n",
    "import open3d as o3d\n",
    "import numpy as np\n",
    "from point_cloud_FoV_utils import *\n",
    "import pandas as pd\n",
    "from tqdm import tqdm"
   ]
  },
  {
   "cell_type": "code",
   "execution_count": 64,
   "metadata": {},
   "outputs": [
    {
     "name": "stdout",
     "output_type": "stream",
     "text": [
      "min_bounds: [-251    0 -241]\n",
      "max_bounds: [ 262 1023  511]\n",
      "graph max_bound: [ 388 1023  526]\n",
      "graph min_bound: [-251    0 -241]\n",
      "original_index_to_integer_index: {(0, 0, 0): 0, (0, 0, 1): 1, (0, 0, 2): 2, (0, 0, 3): 3, (0, 0, 4): 4, (0, 0, 5): 5, (0, 1, 0): 6, (0, 1, 1): 7, (0, 1, 2): 8, (0, 1, 3): 9, (0, 1, 4): 10, (0, 1, 5): 11, (0, 2, 0): 12, (0, 2, 1): 13, (0, 2, 2): 14, (0, 2, 3): 15, (0, 2, 4): 16, (0, 2, 5): 17, (0, 3, 0): 18, (0, 3, 1): 19, (0, 3, 2): 20, (0, 3, 3): 21, (0, 3, 4): 22, (0, 3, 5): 23, (0, 4, 0): 24, (0, 4, 1): 25, (0, 4, 2): 26, (0, 4, 3): 27, (0, 4, 4): 28, (0, 4, 5): 29, (0, 5, 0): 30, (0, 5, 1): 31, (0, 5, 2): 32, (0, 5, 3): 33, (0, 5, 4): 34, (0, 5, 5): 35, (0, 6, 0): 36, (0, 6, 1): 37, (0, 6, 2): 38, (0, 6, 3): 39, (0, 6, 4): 40, (0, 6, 5): 41, (0, 7, 0): 42, (0, 7, 1): 43, (0, 7, 2): 44, (0, 7, 3): 45, (0, 7, 4): 46, (0, 7, 5): 47, (1, 0, 0): 48, (1, 0, 1): 49, (1, 0, 2): 50, (1, 0, 3): 51, (1, 0, 4): 52, (1, 0, 5): 53, (1, 1, 0): 54, (1, 1, 1): 55, (1, 1, 2): 56, (1, 1, 3): 57, (1, 1, 4): 58, (1, 1, 5): 59, (1, 2, 0): 60, (1, 2, 1): 61, (1, 2, 2): 62, (1, 2, 3): 63, (1, 2, 4): 64, (1, 2, 5): 65, (1, 3, 0): 66, (1, 3, 1): 67, (1, 3, 2): 68, (1, 3, 3): 69, (1, 3, 4): 70, (1, 3, 5): 71, (1, 4, 0): 72, (1, 4, 1): 73, (1, 4, 2): 74, (1, 4, 3): 75, (1, 4, 4): 76, (1, 4, 5): 77, (1, 5, 0): 78, (1, 5, 1): 79, (1, 5, 2): 80, (1, 5, 3): 81, (1, 5, 4): 82, (1, 5, 5): 83, (1, 6, 0): 84, (1, 6, 1): 85, (1, 6, 2): 86, (1, 6, 3): 87, (1, 6, 4): 88, (1, 6, 5): 89, (1, 7, 0): 90, (1, 7, 1): 91, (1, 7, 2): 92, (1, 7, 3): 93, (1, 7, 4): 94, (1, 7, 5): 95, (2, 0, 0): 96, (2, 0, 1): 97, (2, 0, 2): 98, (2, 0, 3): 99, (2, 0, 4): 100, (2, 0, 5): 101, (2, 1, 0): 102, (2, 1, 1): 103, (2, 1, 2): 104, (2, 1, 3): 105, (2, 1, 4): 106, (2, 1, 5): 107, (2, 2, 0): 108, (2, 2, 1): 109, (2, 2, 2): 110, (2, 2, 3): 111, (2, 2, 4): 112, (2, 2, 5): 113, (2, 3, 0): 114, (2, 3, 1): 115, (2, 3, 2): 116, (2, 3, 3): 117, (2, 3, 4): 118, (2, 3, 5): 119, (2, 4, 0): 120, (2, 4, 1): 121, (2, 4, 2): 122, (2, 4, 3): 123, (2, 4, 4): 124, (2, 4, 5): 125, (2, 5, 0): 126, (2, 5, 1): 127, (2, 5, 2): 128, (2, 5, 3): 129, (2, 5, 4): 130, (2, 5, 5): 131, (2, 6, 0): 132, (2, 6, 1): 133, (2, 6, 2): 134, (2, 6, 3): 135, (2, 6, 4): 136, (2, 6, 5): 137, (2, 7, 0): 138, (2, 7, 1): 139, (2, 7, 2): 140, (2, 7, 3): 141, (2, 7, 4): 142, (2, 7, 5): 143, (3, 0, 0): 144, (3, 0, 1): 145, (3, 0, 2): 146, (3, 0, 3): 147, (3, 0, 4): 148, (3, 0, 5): 149, (3, 1, 0): 150, (3, 1, 1): 151, (3, 1, 2): 152, (3, 1, 3): 153, (3, 1, 4): 154, (3, 1, 5): 155, (3, 2, 0): 156, (3, 2, 1): 157, (3, 2, 2): 158, (3, 2, 3): 159, (3, 2, 4): 160, (3, 2, 5): 161, (3, 3, 0): 162, (3, 3, 1): 163, (3, 3, 2): 164, (3, 3, 3): 165, (3, 3, 4): 166, (3, 3, 5): 167, (3, 4, 0): 168, (3, 4, 1): 169, (3, 4, 2): 170, (3, 4, 3): 171, (3, 4, 4): 172, (3, 4, 5): 173, (3, 5, 0): 174, (3, 5, 1): 175, (3, 5, 2): 176, (3, 5, 3): 177, (3, 5, 4): 178, (3, 5, 5): 179, (3, 6, 0): 180, (3, 6, 1): 181, (3, 6, 2): 182, (3, 6, 3): 183, (3, 6, 4): 184, (3, 6, 5): 185, (3, 7, 0): 186, (3, 7, 1): 187, (3, 7, 2): 188, (3, 7, 3): 189, (3, 7, 4): 190, (3, 7, 5): 191, (4, 0, 0): 192, (4, 0, 1): 193, (4, 0, 2): 194, (4, 0, 3): 195, (4, 0, 4): 196, (4, 0, 5): 197, (4, 1, 0): 198, (4, 1, 1): 199, (4, 1, 2): 200, (4, 1, 3): 201, (4, 1, 4): 202, (4, 1, 5): 203, (4, 2, 0): 204, (4, 2, 1): 205, (4, 2, 2): 206, (4, 2, 3): 207, (4, 2, 4): 208, (4, 2, 5): 209, (4, 3, 0): 210, (4, 3, 1): 211, (4, 3, 2): 212, (4, 3, 3): 213, (4, 3, 4): 214, (4, 3, 5): 215, (4, 4, 0): 216, (4, 4, 1): 217, (4, 4, 2): 218, (4, 4, 3): 219, (4, 4, 4): 220, (4, 4, 5): 221, (4, 5, 0): 222, (4, 5, 1): 223, (4, 5, 2): 224, (4, 5, 3): 225, (4, 5, 4): 226, (4, 5, 5): 227, (4, 6, 0): 228, (4, 6, 1): 229, (4, 6, 2): 230, (4, 6, 3): 231, (4, 6, 4): 232, (4, 6, 5): 233, (4, 7, 0): 234, (4, 7, 1): 235, (4, 7, 2): 236, (4, 7, 3): 237, (4, 7, 4): 238, (4, 7, 5): 239}\n",
      "graph voxel index set: [(0, 0, 0), (0, 0, 1), (0, 0, 2), (0, 0, 3), (0, 0, 4), (0, 0, 5), (0, 1, 0), (0, 1, 1), (0, 1, 2), (0, 1, 3), (0, 1, 4), (0, 1, 5), (0, 2, 0), (0, 2, 1), (0, 2, 2), (0, 2, 3), (0, 2, 4), (0, 2, 5), (0, 3, 0), (0, 3, 1), (0, 3, 2), (0, 3, 3), (0, 3, 4), (0, 3, 5), (0, 4, 0), (0, 4, 1), (0, 4, 2), (0, 4, 3), (0, 4, 4), (0, 4, 5), (0, 5, 0), (0, 5, 1), (0, 5, 2), (0, 5, 3), (0, 5, 4), (0, 5, 5), (0, 6, 0), (0, 6, 1), (0, 6, 2), (0, 6, 3), (0, 6, 4), (0, 6, 5), (0, 7, 0), (0, 7, 1), (0, 7, 2), (0, 7, 3), (0, 7, 4), (0, 7, 5), (1, 0, 0), (1, 0, 1), (1, 0, 2), (1, 0, 3), (1, 0, 4), (1, 0, 5), (1, 1, 0), (1, 1, 1), (1, 1, 2), (1, 1, 3), (1, 1, 4), (1, 1, 5), (1, 2, 0), (1, 2, 1), (1, 2, 2), (1, 2, 3), (1, 2, 4), (1, 2, 5), (1, 3, 0), (1, 3, 1), (1, 3, 2), (1, 3, 3), (1, 3, 4), (1, 3, 5), (1, 4, 0), (1, 4, 1), (1, 4, 2), (1, 4, 3), (1, 4, 4), (1, 4, 5), (1, 5, 0), (1, 5, 1), (1, 5, 2), (1, 5, 3), (1, 5, 4), (1, 5, 5), (1, 6, 0), (1, 6, 1), (1, 6, 2), (1, 6, 3), (1, 6, 4), (1, 6, 5), (1, 7, 0), (1, 7, 1), (1, 7, 2), (1, 7, 3), (1, 7, 4), (1, 7, 5), (2, 0, 0), (2, 0, 1), (2, 0, 2), (2, 0, 3), (2, 0, 4), (2, 0, 5), (2, 1, 0), (2, 1, 1), (2, 1, 2), (2, 1, 3), (2, 1, 4), (2, 1, 5), (2, 2, 0), (2, 2, 1), (2, 2, 2), (2, 2, 3), (2, 2, 4), (2, 2, 5), (2, 3, 0), (2, 3, 1), (2, 3, 2), (2, 3, 3), (2, 3, 4), (2, 3, 5), (2, 4, 0), (2, 4, 1), (2, 4, 2), (2, 4, 3), (2, 4, 4), (2, 4, 5), (2, 5, 0), (2, 5, 1), (2, 5, 2), (2, 5, 3), (2, 5, 4), (2, 5, 5), (2, 6, 0), (2, 6, 1), (2, 6, 2), (2, 6, 3), (2, 6, 4), (2, 6, 5), (2, 7, 0), (2, 7, 1), (2, 7, 2), (2, 7, 3), (2, 7, 4), (2, 7, 5), (3, 0, 0), (3, 0, 1), (3, 0, 2), (3, 0, 3), (3, 0, 4), (3, 0, 5), (3, 1, 0), (3, 1, 1), (3, 1, 2), (3, 1, 3), (3, 1, 4), (3, 1, 5), (3, 2, 0), (3, 2, 1), (3, 2, 2), (3, 2, 3), (3, 2, 4), (3, 2, 5), (3, 3, 0), (3, 3, 1), (3, 3, 2), (3, 3, 3), (3, 3, 4), (3, 3, 5), (3, 4, 0), (3, 4, 1), (3, 4, 2), (3, 4, 3), (3, 4, 4), (3, 4, 5), (3, 5, 0), (3, 5, 1), (3, 5, 2), (3, 5, 3), (3, 5, 4), (3, 5, 5), (3, 6, 0), (3, 6, 1), (3, 6, 2), (3, 6, 3), (3, 6, 4), (3, 6, 5), (3, 7, 0), (3, 7, 1), (3, 7, 2), (3, 7, 3), (3, 7, 4), (3, 7, 5), (4, 0, 0), (4, 0, 1), (4, 0, 2), (4, 0, 3), (4, 0, 4), (4, 0, 5), (4, 1, 0), (4, 1, 1), (4, 1, 2), (4, 1, 3), (4, 1, 4), (4, 1, 5), (4, 2, 0), (4, 2, 1), (4, 2, 2), (4, 2, 3), (4, 2, 4), (4, 2, 5), (4, 3, 0), (4, 3, 1), (4, 3, 2), (4, 3, 3), (4, 3, 4), (4, 3, 5), (4, 4, 0), (4, 4, 1), (4, 4, 2), (4, 4, 3), (4, 4, 4), (4, 4, 5), (4, 5, 0), (4, 5, 1), (4, 5, 2), (4, 5, 3), (4, 5, 4), (4, 5, 5), (4, 6, 0), (4, 6, 1), (4, 6, 2), (4, 6, 3), (4, 6, 4), (4, 6, 5), (4, 7, 0), (4, 7, 1), (4, 7, 2), (4, 7, 3), (4, 7, 4), (4, 7, 5)]\n",
      "graph voxel integer index set: [0, 1, 2, 3, 4, 5, 6, 7, 8, 9, 10, 11, 12, 13, 14, 15, 16, 17, 18, 19, 20, 21, 22, 23, 24, 25, 26, 27, 28, 29, 30, 31, 32, 33, 34, 35, 36, 37, 38, 39, 40, 41, 42, 43, 44, 45, 46, 47, 48, 49, 50, 51, 52, 53, 54, 55, 56, 57, 58, 59, 60, 61, 62, 63, 64, 65, 66, 67, 68, 69, 70, 71, 72, 73, 74, 75, 76, 77, 78, 79, 80, 81, 82, 83, 84, 85, 86, 87, 88, 89, 90, 91, 92, 93, 94, 95, 96, 97, 98, 99, 100, 101, 102, 103, 104, 105, 106, 107, 108, 109, 110, 111, 112, 113, 114, 115, 116, 117, 118, 119, 120, 121, 122, 123, 124, 125, 126, 127, 128, 129, 130, 131, 132, 133, 134, 135, 136, 137, 138, 139, 140, 141, 142, 143, 144, 145, 146, 147, 148, 149, 150, 151, 152, 153, 154, 155, 156, 157, 158, 159, 160, 161, 162, 163, 164, 165, 166, 167, 168, 169, 170, 171, 172, 173, 174, 175, 176, 177, 178, 179, 180, 181, 182, 183, 184, 185, 186, 187, 188, 189, 190, 191, 192, 193, 194, 195, 196, 197, 198, 199, 200, 201, 202, 203, 204, 205, 206, 207, 208, 209, 210, 211, 212, 213, 214, 215, 216, 217, 218, 219, 220, 221, 222, 223, 224, 225, 226, 227, 228, 229, 230, 231, 232, 233, 234, 235, 236, 237, 238, 239]\n",
      "length of graph voxel index: 240\n"
     ]
    },
    {
     "name": "stderr",
     "output_type": "stream",
     "text": [
      "  0%|          | 0/212 [00:03<?, ?it/s]\n",
      "  0%|          | 0/14 [00:03<?, ?it/s]"
     ]
    },
    {
     "name": "stdout",
     "output_type": "stream",
     "text": [
      "\u001b[1;33m[Open3D WARNING] GLFW Error: Cocoa: Failed to find service port for display\u001b[0;m\n",
      "\u001b[1;33m[Open3D WARNING] GLFW Error: Cocoa: Failed to find service port for display\u001b[0;m\n"
     ]
    },
    {
     "name": "stderr",
     "output_type": "stream",
     "text": [
      "\n"
     ]
    },
    {
     "ename": "NameError",
     "evalue": "name 'w' is not defined",
     "output_type": "error",
     "traceback": [
      "\u001b[0;31m---------------------------------------------------------------------------\u001b[0m",
      "\u001b[0;31mNameError\u001b[0m                                 Traceback (most recent call last)",
      "Cell \u001b[0;32mIn[64], line 88\u001b[0m\n\u001b[1;32m     86\u001b[0m visualize_voxel_grid(pcd,pcd_hpr,graph_min_bound,graph_max_bound,voxel_size,para_eye,graph_voxel_grid_integer_index_set,graph_voxel_grid_coords)\n\u001b[1;32m     87\u001b[0m \u001b[38;5;66;03m# append features\u001b[39;00m\n\u001b[0;32m---> 88\u001b[0m \u001b[43mw\u001b[49m\n\u001b[1;32m     90\u001b[0m occupancy_feature\u001b[38;5;241m.\u001b[39mappend(occupancy_array)\n\u001b[1;32m     91\u001b[0m in_FoV_feature\u001b[38;5;241m.\u001b[39mappend(in_FoV_voxel_percentage_array)\n",
      "\u001b[0;31mNameError\u001b[0m: name 'w' is not defined"
     ]
    }
   ],
   "source": [
    "# participant = 'P01_V1'\n",
    "# trajectory_index = 0\n",
    "image_width, image_height = np.array([1920, 1080])\n",
    "# generate graph voxel grid features\n",
    "voxel_size = int(128)\n",
    "min_bounds = np.array([-251,    0, -241]) \n",
    "max_bounds = np.array([ 262, 1023,  511])\n",
    "\n",
    "edge_prefix = str(voxel_size)\n",
    "# get the graph max and min bounds\n",
    "# graph_max_bound,graph_min_bound,graph_voxel_grid_integer_index_set,graph_voxel_grid_index_set,graph_voxel_grid_coords,original_index_to_integer_index = voxelizetion_para(\n",
    "    # voxel_size=voxel_size, min_bounds=min_bounds, max_bounds=max_bounds)\n",
    "results = voxelizetion_para(voxel_size=voxel_size, min_bounds=min_bounds, \n",
    "                            max_bounds=max_bounds)\n",
    "graph_max_bound = results['graph_voxel_grid_max_bound']\n",
    "graph_min_bound = results['graph_voxel_grid_min_bound']\n",
    "graph_voxel_grid_integer_index_set = results['graph_voxel_grid_integer_index_set']\n",
    "graph_voxel_grid_index_set = results['graph_voxel_grid_index_set']\n",
    "graph_voxel_grid_coords = results['graph_voxel_grid_coords']\n",
    "graph_voxel_grid_coords_array = results['graph_voxel_grid_coords_array']\n",
    "original_index_to_integer_index = results['original_index_to_integer_index']\n",
    "# for pcd_name in ['longdress','loot','redandblack','soldier']:\n",
    "for pcd_name in ['soldier']:  \n",
    "    history = 60\n",
    "    # future = 60\n",
    "    # prefix = f'{pcd_name}_VS{voxel_size}_LR' # LR is _LR for testing***********************************************\n",
    "    # prefix = f'{pcd_name}_VS{voxel_size}_TLR' # LR is _LR for testing***********************************************\n",
    "    prefix = f'{pcd_name}_VS{voxel_size}'\n",
    "    for future in [60]:\n",
    "        # print(f'Processing {pcd_name} with history {history} and future {future}...')\n",
    "        for user_i in tqdm(range(1,2)):  # TLP/LR is 15 for testing***********************************************\n",
    "        # for user_i in tqdm(range(1,28)):                \n",
    "            participant = 'P'+str(user_i).zfill(2)+'_V1'\n",
    "            node_index = []\n",
    "            occupancy_feature = []\n",
    "            in_FoV_feature = []\n",
    "            occlusion_feature = []\n",
    "            distance_feature = []\n",
    "            coordinate_feature = []\n",
    "            # choose different trajectory files***********************************************\n",
    "            positions,orientations = get_point_cloud_user_trajectory(pcd_name=pcd_name,participant=participant)\n",
    "            # positions,orientations = get_point_cloud_user_trajectory_LR(pcd_name=pcd_name,participant=participant,history=history,future=future) # LR is _LR for testing***********************************************\n",
    "            # positions,orientations = get_point_cloud_user_trajectory_TLR(pcd_name=pcd_name,participant=participant,history=history,future=future) # TLR is _TLR for testing***********************************************\n",
    "            for trajectory_index in tqdm(range((len(positions)))):\n",
    "                # print(f'Processing trajectory {trajectory_index}...')\n",
    "                # Load the point cloud data\n",
    "                pcd = get_pcd_data(point_cloud_name=pcd_name, trajectory_index=trajectory_index%150)\n",
    "                # get the position and orientation for the given participant and trajectory index\n",
    "                \n",
    "                position = positions[trajectory_index]\n",
    "                orientation = orientations[trajectory_index]\n",
    "                para_eye = [i*1024/1.8 for i in position]\n",
    "                para_eye[2] = -para_eye[2]\n",
    "                # para_eye = np.array(para_eye).reshape(3,1)\n",
    "                pitch_degree, yaw_degree, roll_degree = orientation\n",
    "                \n",
    "                # Define camera intrinsic parameters\n",
    "                intrinsic_matrix = get_camera_intrinsic_matrix(image_width, image_height)\n",
    "                # Define camera extrinsic parameters\n",
    "                extrinsic_matrix = get_camera_extrinsic_matrix_from_yaw_pitch_roll(yaw_degree, pitch_degree, roll_degree, para_eye)\n",
    "\n",
    "\n",
    "\n",
    "                # pcd = pcd.voxel_down_sample(voxel_size=8)\n",
    "                # get the occupancy feature\n",
    "                occupancy_dict,occupancy_array = get_occupancy_feature(pcd,graph_min_bound,graph_max_bound,graph_voxel_grid_integer_index_set,voxel_size)\n",
    "                # print('occupancy_dict:      ',occupancy_dict[(1, 5, 2)])\n",
    "                \n",
    "\n",
    "                # get the in_FoV_voxel_percentage_dict\n",
    "                in_FoV_percentage_dict,in_FoV_voxel_percentage_array,pcd_N = get_in_FoV_feature(graph_min_bound,graph_max_bound,voxel_size,intrinsic_matrix,extrinsic_matrix,image_width,image_height)\n",
    "                # print('in_FoV_dict:         ',in_FoV_percentage_dict[(1, 5, 2)])\n",
    "\n",
    "                # get occlusion level\n",
    "                # deep copy the pcd\n",
    "                \n",
    "                occlusion_level_dict,occulusion_array,pcd_hpr = get_occlusion_level_dict(pcd,para_eye,graph_min_bound,graph_max_bound,graph_voxel_grid_integer_index_set,voxel_size,intrinsic_matrix,extrinsic_matrix,image_width,image_height)\n",
    "                # print('occlusion_level_dict:',occlusion_level_dict[(2, 0, 2)])\n",
    "                # print('occupancy_dict:      ',occupancy_dict)\n",
    "                # print('occupancy_array:      ',occupancy_array)\n",
    "                # print('occlusion_level_dict:',occlusion_level_dict)\n",
    "                # print('occulusion_array:    ',occulusion_array)\n",
    "                # print('in_FoV_dict:         ',in_FoV_percentage_dict)\n",
    "                # print('in_FoV_array:        ',in_FoV_voxel_percentage_array)\n",
    "                # visualize the voxel grid\n",
    "                visualize_voxel_grid(pcd,pcd_hpr,graph_min_bound,graph_max_bound,voxel_size,para_eye,graph_voxel_grid_integer_index_set,graph_voxel_grid_coords)\n",
    "                # append features\n",
    "                w\n",
    "                \n",
    "                occupancy_feature.append(occupancy_array)\n",
    "                in_FoV_feature.append(in_FoV_voxel_percentage_array)\n",
    "                occlusion_feature.append(occulusion_array)\n",
    "                node_index.append(graph_voxel_grid_integer_index_set)\n",
    "                coordinate_feature.append(graph_voxel_grid_coords_array)\n",
    "                distance_feature.append(np.linalg.norm(graph_voxel_grid_coords_array-para_eye,axis=1).reshape(-1,1))\n",
    "                \n",
    "            # save the features to the csv file\n",
    "            occupancy_feature = np.array(occupancy_feature).reshape(-1,1)\n",
    "            in_FoV_feature = np.array(in_FoV_feature).reshape(-1,1)\n",
    "            occlusion_feature = np.array(occlusion_feature).reshape(-1,1)\n",
    "            node_index = np.array(node_index).reshape(-1,1)\n",
    "            coordinate_feature = np.array(coordinate_feature).reshape(-1,3)\n",
    "            distance_feature = np.array(distance_feature).reshape(-1,1)\n",
    "            # save to ./data/voxel_size256/node_feature.csv and column name is 'occupancy_feature','in_FoV_feature','occlusion_feature'\n",
    "            node_feature = np.concatenate((occupancy_feature,in_FoV_feature,occlusion_feature,coordinate_feature,distance_feature,node_index),axis=1)\n",
    "            node_feature_df = pd.DataFrame(node_feature,columns=['occupancy_feature','in_FoV_feature','occlusion_feature','coordinate_x','coordinate_y','coordinate_z','distance','node_index'])\n",
    "            # if not os.path.exists(f'./data/{prefix}'):\n",
    "            #     os.makedirs(f'./data/{prefix}')\n",
    "            # # node_feature_df.to_csv(f'./data/{prefix}/{participant}node_feature.csv')\n",
    "            #     # LR for testing***********************************************\n",
    "            # node_feature_df.to_csv(f'./data/{prefix}/{participant}node_feature{history}{future}.csv')"
   ]
  },
  {
   "cell_type": "code",
   "execution_count": 65,
   "metadata": {},
   "outputs": [
    {
     "name": "stdout",
     "output_type": "stream",
     "text": [
      "\u001b[1;33m[Open3D WARNING] GLFW Error: Cocoa: Failed to find service port for display\u001b[0;m\n",
      "\u001b[1;33m[Open3D WARNING] GLFW Error: Cocoa: Failed to find service port for display\u001b[0;m\n"
     ]
    },
    {
     "ename": "KeyboardInterrupt",
     "evalue": "",
     "output_type": "error",
     "traceback": [
      "\u001b[0;31m---------------------------------------------------------------------------\u001b[0m",
      "\u001b[0;31mKeyboardInterrupt\u001b[0m                         Traceback (most recent call last)",
      "Cell \u001b[0;32mIn[65], line 2\u001b[0m\n\u001b[1;32m      1\u001b[0m get_ipython()\u001b[38;5;241m.\u001b[39mrun_line_magic(\u001b[38;5;124m'\u001b[39m\u001b[38;5;124mrun\u001b[39m\u001b[38;5;124m'\u001b[39m, \u001b[38;5;124m'\u001b[39m\u001b[38;5;124mvoxel_grid.py\u001b[39m\u001b[38;5;124m'\u001b[39m)\n\u001b[0;32m----> 2\u001b[0m \u001b[43mvisualize_voxel_grid\u001b[49m\u001b[43m(\u001b[49m\u001b[43mpcd\u001b[49m\u001b[43m,\u001b[49m\u001b[43mpcd_hpr\u001b[49m\u001b[43m,\u001b[49m\u001b[43mgraph_min_bound\u001b[49m\u001b[43m,\u001b[49m\u001b[43mgraph_max_bound\u001b[49m\u001b[43m,\u001b[49m\u001b[43mvoxel_size\u001b[49m\u001b[43m,\u001b[49m\u001b[43mpara_eye\u001b[49m\u001b[43m,\u001b[49m\u001b[43mgraph_voxel_grid_integer_index_set\u001b[49m\u001b[43m,\u001b[49m\u001b[43mgraph_voxel_grid_coords\u001b[49m\u001b[43m)\u001b[49m\n",
      "File \u001b[0;32m~/research/point_cloud/point_cloud_FoV_Graph/voxel_grid.py:298\u001b[0m, in \u001b[0;36mvisualize_voxel_grid\u001b[0;34m(pcd, pcd_hpr, graph_min_bound, graph_max_bound, voxel_size, para_eye, voxel_grid_index_set, voxel_grid_coords)\u001b[0m\n\u001b[1;32m    295\u001b[0m # visualize the voxel grid\n\u001b[1;32m    296\u001b[0m o3d.visualization.draw_geometries([pcd,pcd_hpr,*line_sets_all_space,coordinate_frame])\n\u001b[1;32m    297\u001b[0m # o3d.visualization.draw_geometries([colored_pcd,*line_sets_all_space,coordinate_frame,sphere])\n\u001b[0;32m--> 298\u001b[0m # o3d.visualization.draw_geometries([voxel_grid,*line_sets_all_space,coordinate_frame,sphere])\n",
      "\u001b[0;31mKeyboardInterrupt\u001b[0m: "
     ]
    }
   ],
   "source": [
    "%run voxel_grid.py\n",
    "visualize_voxel_grid(pcd,pcd_hpr,graph_min_bound,graph_max_bound,voxel_size,para_eye,graph_voxel_grid_integer_index_set,graph_voxel_grid_coords)"
   ]
  },
  {
   "cell_type": "code",
   "execution_count": 52,
   "metadata": {},
   "outputs": [],
   "source": [
    "voxel_size = int(256/4)  # You can adjust this size as needed\n",
    "min_bounds = np.array([-251,    0, -242])\n",
    "max_bounds = np.array([ 262, 1023,  512])\n",
    "# (512+242)/128 = 5.891\n",
    "# (262+251)/128 = 4.007 \n",
    "# (1023+0)/128 = 7.992 \n",
    "voxel_grid = o3d.geometry.VoxelGrid.create_from_point_cloud_within_bounds(pcd_N, voxel_size, min_bounds, max_bounds)"
   ]
  },
  {
   "cell_type": "code",
   "execution_count": 50,
   "metadata": {},
   "outputs": [
    {
     "name": "stdout",
     "output_type": "stream",
     "text": [
      "\u001b[1;33m[Open3D WARNING] GLFW Error: Cocoa: Failed to find service port for display\u001b[0;m\n",
      "\u001b[1;33m[Open3D WARNING] GLFW Error: Cocoa: Failed to find service port for display\u001b[0;m\n"
     ]
    }
   ],
   "source": [
    "# set the color of pcd_N to black\n",
    "pcd_N.paint_uniform_color([0, 0, 0])\n",
    "o3d.visualization.draw_geometries([pcd_N])"
   ]
  },
  {
   "cell_type": "code",
   "execution_count": 53,
   "metadata": {},
   "outputs": [
    {
     "name": "stdout",
     "output_type": "stream",
     "text": [
      "\u001b[1;33m[Open3D WARNING] GLFW Error: Cocoa: Failed to find service port for display\u001b[0;m\n",
      "\u001b[1;33m[Open3D WARNING] GLFW Error: Cocoa: Failed to find service port for display\u001b[0;m\n"
     ]
    }
   ],
   "source": [
    "o3d.visualization.draw_geometries([voxel_grid])"
   ]
  },
  {
   "cell_type": "code",
   "execution_count": null,
   "metadata": {},
   "outputs": [],
   "source": []
  }
 ],
 "metadata": {
  "kernelspec": {
   "display_name": "pointcloud",
   "language": "python",
   "name": "python3"
  },
  "language_info": {
   "codemirror_mode": {
    "name": "ipython",
    "version": 3
   },
   "file_extension": ".py",
   "mimetype": "text/x-python",
   "name": "python",
   "nbconvert_exporter": "python",
   "pygments_lexer": "ipython3",
   "version": "3.10.14"
  }
 },
 "nbformat": 4,
 "nbformat_minor": 2
}

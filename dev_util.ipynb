{
 "cells": [
  {
   "cell_type": "code",
   "execution_count": null,
   "id": "20f4c2b7-06e9-48cb-a278-98cbfdc6cdda",
   "metadata": {},
   "outputs": [],
   "source": []
  },
  {
   "cell_type": "markdown",
   "id": "6ec155fe-5751-48ca-be94-678aec434796",
   "metadata": {},
   "source": [
    "# get_all_cell_occupied"
   ]
  },
  {
   "cell_type": "code",
   "execution_count": 19,
   "id": "6d7fb8de-f848-4920-a7a6-16232cd2f76b",
   "metadata": {},
   "outputs": [],
   "source": [
    "%run node_feature_utils.py\n",
    "occupied_cell = get_all_cell_occupied(frame_index_off_set = 1051,frame_index_begin = 0,frame_index_end = 149)"
   ]
  },
  {
   "cell_type": "code",
   "execution_count": 20,
   "id": "8a73822c-aadb-44a2-8ef9-4c812f0df2d9",
   "metadata": {},
   "outputs": [],
   "source": [
    "# occupied_cell"
   ]
  },
  {
   "cell_type": "markdown",
   "id": "9ef8aaa4-8b3e-4389-b658-8e0ca3712c1e",
   "metadata": {},
   "source": [
    "# parse_trajectory_data"
   ]
  },
  {
   "cell_type": "code",
   "execution_count": 21,
   "id": "d5e48c23-dd65-467d-ab6a-ff985c3c1d75",
   "metadata": {},
   "outputs": [],
   "source": [
    "trajectory_positions, trajectory_orientations = parse_trajectory_data(\"./6DoF-HMD-UserNavigationData-master/NavigationData/H1_nav.csv\",user_index='P01_V1')"
   ]
  },
  {
   "cell_type": "code",
   "execution_count": 22,
   "id": "f61c098f-72ac-40d0-880e-a4e1b82aef84",
   "metadata": {},
   "outputs": [
    {
     "data": {
      "text/plain": [
       "(549, 3)"
      ]
     },
     "execution_count": 22,
     "metadata": {},
     "output_type": "execute_result"
    }
   ],
   "source": [
    "trajectory_positions.shape"
   ]
  },
  {
   "cell_type": "markdown",
   "id": "1a630096-6049-451b-bd74-1ccfc68a1f99",
   "metadata": {},
   "source": [
    "# get_cell_in_view_frustum"
   ]
  },
  {
   "cell_type": "code",
   "execution_count": 23,
   "id": "5792cec4-e7a0-4997-b662-b2c267dce375",
   "metadata": {},
   "outputs": [],
   "source": [
    "# %run node_feature_utils.py\n",
    "FoV_cell = get_cell_in_view_frustum(trajectory_positions,trajectory_orientations, occupied_cell)"
   ]
  },
  {
   "cell_type": "code",
   "execution_count": 24,
   "id": "ee2d09df-1de0-4b92-9d4e-2147ed82142b",
   "metadata": {},
   "outputs": [],
   "source": [
    "# FoV_cell"
   ]
  },
  {
   "cell_type": "markdown",
   "id": "3671acc8-fee0-41a7-8eb9-f04cc7aefd32",
   "metadata": {},
   "source": [
    "# get_feature_for_all_cell | given frame index range"
   ]
  },
  {
   "cell_type": "markdown",
   "id": "9886dbe9-50c1-4610-87cf-0b11c63692a3",
   "metadata": {},
   "source": [
    "## output is cell's visibility label"
   ]
  },
  {
   "cell_type": "code",
   "execution_count": 25,
   "id": "e879cfb3-1d7d-431b-b83b-b2d716a5945d",
   "metadata": {},
   "outputs": [
    {
     "name": "stdout",
     "output_type": "stream",
     "text": [
      "10000\n"
     ]
    }
   ],
   "source": [
    "%run node_feature_utils.py\n",
    "node_occlusion_feature_df = get_occlusion_feature_for_all_cell(FoV_cell,occupied_cell,trajectory_positions,trajectory_orientations,\n",
    "                              trajectory_frame_index_begin=0,trajectory_frame_index_end=65)"
   ]
  },
  {
   "cell_type": "markdown",
   "id": "da57a043-0057-4e0f-a607-349ded4537f6",
   "metadata": {},
   "source": [
    "# cell occlusion level distribution"
   ]
  },
  {
   "cell_type": "code",
   "execution_count": 26,
   "id": "f51d10d7-322f-451a-9e3e-1d63999885e7",
   "metadata": {},
   "outputs": [
    {
     "data": {
      "text/html": [
       "<div>\n",
       "<style scoped>\n",
       "    .dataframe tbody tr th:only-of-type {\n",
       "        vertical-align: middle;\n",
       "    }\n",
       "\n",
       "    .dataframe tbody tr th {\n",
       "        vertical-align: top;\n",
       "    }\n",
       "\n",
       "    .dataframe thead th {\n",
       "        text-align: right;\n",
       "    }\n",
       "</style>\n",
       "<table border=\"1\" class=\"dataframe\">\n",
       "  <thead>\n",
       "    <tr style=\"text-align: right;\">\n",
       "      <th></th>\n",
       "      <th>cell</th>\n",
       "      <th>ts</th>\n",
       "      <th>label</th>\n",
       "    </tr>\n",
       "  </thead>\n",
       "  <tbody>\n",
       "    <tr>\n",
       "      <th>0</th>\n",
       "      <td>(5, 12, 6)</td>\n",
       "      <td>0</td>\n",
       "      <td>1.000000</td>\n",
       "    </tr>\n",
       "    <tr>\n",
       "      <th>1</th>\n",
       "      <td>(7, 1, 8)</td>\n",
       "      <td>0</td>\n",
       "      <td>0.000000</td>\n",
       "    </tr>\n",
       "    <tr>\n",
       "      <th>2</th>\n",
       "      <td>(6, 7, 6)</td>\n",
       "      <td>0</td>\n",
       "      <td>0.718436</td>\n",
       "    </tr>\n",
       "    <tr>\n",
       "      <th>3</th>\n",
       "      <td>(7, 3, 5)</td>\n",
       "      <td>0</td>\n",
       "      <td>0.000000</td>\n",
       "    </tr>\n",
       "    <tr>\n",
       "      <th>4</th>\n",
       "      <td>(7, 12, 8)</td>\n",
       "      <td>0</td>\n",
       "      <td>0.131690</td>\n",
       "    </tr>\n",
       "    <tr>\n",
       "      <th>...</th>\n",
       "      <td>...</td>\n",
       "      <td>...</td>\n",
       "      <td>...</td>\n",
       "    </tr>\n",
       "    <tr>\n",
       "      <th>13019</th>\n",
       "      <td>(8, 10, 4)</td>\n",
       "      <td>65</td>\n",
       "      <td>1.000000</td>\n",
       "    </tr>\n",
       "    <tr>\n",
       "      <th>13020</th>\n",
       "      <td>(9, 14, 8)</td>\n",
       "      <td>65</td>\n",
       "      <td>0.227344</td>\n",
       "    </tr>\n",
       "    <tr>\n",
       "      <th>13021</th>\n",
       "      <td>(7, 7, 9)</td>\n",
       "      <td>65</td>\n",
       "      <td>0.263009</td>\n",
       "    </tr>\n",
       "    <tr>\n",
       "      <th>13022</th>\n",
       "      <td>(6, 2, 7)</td>\n",
       "      <td>65</td>\n",
       "      <td>0.414248</td>\n",
       "    </tr>\n",
       "    <tr>\n",
       "      <th>13023</th>\n",
       "      <td>(8, 2, 9)</td>\n",
       "      <td>65</td>\n",
       "      <td>0.081339</td>\n",
       "    </tr>\n",
       "  </tbody>\n",
       "</table>\n",
       "<p>13024 rows × 3 columns</p>\n",
       "</div>"
      ],
      "text/plain": [
       "             cell  ts     label\n",
       "0      (5, 12, 6)   0  1.000000\n",
       "1       (7, 1, 8)   0  0.000000\n",
       "2       (6, 7, 6)   0  0.718436\n",
       "3       (7, 3, 5)   0  0.000000\n",
       "4      (7, 12, 8)   0  0.131690\n",
       "...           ...  ..       ...\n",
       "13019  (8, 10, 4)  65  1.000000\n",
       "13020  (9, 14, 8)  65  0.227344\n",
       "13021   (7, 7, 9)  65  0.263009\n",
       "13022   (6, 2, 7)  65  0.414248\n",
       "13023   (8, 2, 9)  65  0.081339\n",
       "\n",
       "[13024 rows x 3 columns]"
      ]
     },
     "execution_count": 26,
     "metadata": {},
     "output_type": "execute_result"
    }
   ],
   "source": [
    "node_occlusion_feature_df"
   ]
  },
  {
   "cell_type": "code",
   "execution_count": 27,
   "id": "79c4b807-f70b-473e-9053-d4ecd941504d",
   "metadata": {},
   "outputs": [
    {
     "data": {
      "text/plain": [
       "1.0"
      ]
     },
     "execution_count": 27,
     "metadata": {},
     "output_type": "execute_result"
    }
   ],
   "source": [
    "node_occlusion_feature_df.loc[node_occlusion_feature_df.cell==(5, 12, 6)].iloc[0].label"
   ]
  },
  {
   "cell_type": "code",
   "execution_count": 28,
   "id": "142908bc-82eb-43aa-b3c5-6dce368847df",
   "metadata": {},
   "outputs": [
    {
     "name": "stdout",
     "output_type": "stream",
     "text": [
      "count    13024.000000\n",
      "mean         0.335312\n",
      "std          0.373198\n",
      "min          0.000000\n",
      "25%          0.005950\n",
      "50%          0.192306\n",
      "75%          0.570700\n",
      "max          1.000000\n",
      "Name: label, dtype: float64\n"
     ]
    },
    {
     "data": {
      "image/png": "[encoded data removed]",
      "text/plain": [
       "<Figure size 1200x1000 with 4 Axes>"
      ]
     },
     "metadata": {},
     "output_type": "display_data"
    }
   ],
   "source": [
    "%run node_feature_utils.py\n",
    "cell_occlusion_level_distribution(node_occlusion_feature_df)"
   ]
  },
  {
   "cell_type": "code",
   "execution_count": 1,
   "id": "488884a3-832d-4808-b503-be3798fdac39",
   "metadata": {},
   "outputs": [
    {
     "ename": "NameError",
     "evalue": "name 'trajectory_positions' is not defined",
     "output_type": "error",
     "traceback": [
      "\u001b[0;31m---------------------------------------------------------------------------\u001b[0m",
      "\u001b[0;31mNameError\u001b[0m                                 Traceback (most recent call last)",
      "Cell \u001b[0;32mIn[1], line 2\u001b[0m\n\u001b[1;32m      1\u001b[0m get_ipython()\u001b[38;5;241m.\u001b[39mrun_line_magic(\u001b[38;5;124m'\u001b[39m\u001b[38;5;124mrun\u001b[39m\u001b[38;5;124m'\u001b[39m, \u001b[38;5;124m'\u001b[39m\u001b[38;5;124mnode_feature_utils.py\u001b[39m\u001b[38;5;124m'\u001b[39m)\n\u001b[0;32m----> 2\u001b[0m rendering_from_node_feature(\u001b[43mtrajectory_positions\u001b[49m,trajectory_orientations,\n\u001b[1;32m      3\u001b[0m                             node_occlusion_feature_df,FoV_cell,trajectory_index\u001b[38;5;241m=\u001b[39m\u001b[38;5;241m0\u001b[39m,frame_index_off_set\u001b[38;5;241m=\u001b[39m\u001b[38;5;241m1051\u001b[39m)\n",
      "\u001b[0;31mNameError\u001b[0m: name 'trajectory_positions' is not defined"
     ]
    }
   ],
   "source": [
    "%run node_feature_utils.py\n",
    "rendering_from_node_feature(trajectory_positions,trajectory_orientations,\n",
    "                            node_occlusion_feature_df,FoV_cell,trajectory_index=0,frame_index_off_set=1051)"
   ]
  },
  {
   "cell_type": "code",
   "execution_count": 28,
   "id": "4259189d-e920-4bc9-b812-4a8b49ae744a",
   "metadata": {},
   "outputs": [],
   "source": [
    "# import open3d as o3d\n",
    "\n",
    "# tile_ply = './tile_data/recons/1051/longdress_1051_06_15_07_6.ply'\n",
    "# tile_ply = '/Users/chenli/research/point cloud/8i/longdress/longdress/Ply/longdress_vox10_1188.ply'\n",
    "# if os.path.exists(tile_ply):\n",
    "#     pcd = o3d.io.read_point_cloud(tile_ply)\n",
    "#     print(pcd)\n",
    "    \n",
    "# else:\n",
    "#     print(\"File not found:\", tile_ply)\n"
   ]
  },
  {
   "cell_type": "markdown",
   "id": "ab8aeb57-9b68-41db-bd39-677515625af8",
   "metadata": {},
   "source": [
    "# generate_event_for_tgn"
   ]
  },
  {
   "cell_type": "code",
   "execution_count": 12,
   "id": "1948d5e7-b700-4bb4-ae7e-78025401605b",
   "metadata": {},
   "outputs": [],
   "source": [
    "from collections import defaultdict\n",
    "cell2node = defaultdict(int)\n",
    "node2cell = defaultdict(tuple)\n",
    "for y in range(16):\n",
    "    for z in range(16):\n",
    "        for x in range(16):\n",
    "            cell2node[tuple([x,y,z])] = y*256 + z* 16 + x\n",
    "            node2cell[y*256 + z* 16 + x] = tuple([x,y,z])"
   ]
  },
  {
   "cell_type": "code",
   "execution_count": 15,
   "id": "f7dbe55b-9f92-4a58-b726-c1aa47ca59da",
   "metadata": {},
   "outputs": [
    {
     "name": "stdout",
     "output_type": "stream",
     "text": [
      "100000\n",
      "200000\n",
      "300000\n",
      "400000\n"
     ]
    }
   ],
   "source": [
    "%run node_feature_utils.py\n",
    "tgn_event_df = generate_event_for_tgn(node_occlusion_feature_df,occupied_cell,cell2node)"
   ]
  },
  {
   "cell_type": "code",
   "execution_count": 16,
   "id": "d3ab1b2e-9a5f-44c8-af5f-930e3fdd5165",
   "metadata": {},
   "outputs": [
    {
     "data": {
      "text/html": [
       "<div>\n",
       "<style scoped>\n",
       "    .dataframe tbody tr th:only-of-type {\n",
       "        vertical-align: middle;\n",
       "    }\n",
       "\n",
       "    .dataframe tbody tr th {\n",
       "        vertical-align: top;\n",
       "    }\n",
       "\n",
       "    .dataframe thead th {\n",
       "        text-align: right;\n",
       "    }\n",
       "</style>\n",
       "<table border=\"1\" class=\"dataframe\">\n",
       "  <thead>\n",
       "    <tr style=\"text-align: right;\">\n",
       "      <th></th>\n",
       "      <th>u</th>\n",
       "      <th>i</th>\n",
       "      <th>ts</th>\n",
       "      <th>label</th>\n",
       "      <th>idx</th>\n",
       "    </tr>\n",
       "  </thead>\n",
       "  <tbody>\n",
       "    <tr>\n",
       "      <th>0</th>\n",
       "      <td>3173</td>\n",
       "      <td>2917</td>\n",
       "      <td>0</td>\n",
       "      <td>1.000000</td>\n",
       "      <td>1</td>\n",
       "    </tr>\n",
       "    <tr>\n",
       "      <th>1</th>\n",
       "      <td>3173</td>\n",
       "      <td>2933</td>\n",
       "      <td>0</td>\n",
       "      <td>1.000000</td>\n",
       "      <td>2</td>\n",
       "    </tr>\n",
       "    <tr>\n",
       "      <th>2</th>\n",
       "      <td>3173</td>\n",
       "      <td>3189</td>\n",
       "      <td>0</td>\n",
       "      <td>1.000000</td>\n",
       "      <td>3</td>\n",
       "    </tr>\n",
       "    <tr>\n",
       "      <th>3</th>\n",
       "      <td>3173</td>\n",
       "      <td>3445</td>\n",
       "      <td>0</td>\n",
       "      <td>1.000000</td>\n",
       "      <td>4</td>\n",
       "    </tr>\n",
       "    <tr>\n",
       "      <th>4</th>\n",
       "      <td>3173</td>\n",
       "      <td>2918</td>\n",
       "      <td>0</td>\n",
       "      <td>1.000000</td>\n",
       "      <td>5</td>\n",
       "    </tr>\n",
       "    <tr>\n",
       "      <th>...</th>\n",
       "      <td>...</td>\n",
       "      <td>...</td>\n",
       "      <td>...</td>\n",
       "      <td>...</td>\n",
       "      <td>...</td>\n",
       "    </tr>\n",
       "    <tr>\n",
       "      <th>459501</th>\n",
       "      <td>1128</td>\n",
       "      <td>1113</td>\n",
       "      <td>149</td>\n",
       "      <td>0.232015</td>\n",
       "      <td>459502</td>\n",
       "    </tr>\n",
       "    <tr>\n",
       "      <th>459502</th>\n",
       "      <td>1128</td>\n",
       "      <td>1129</td>\n",
       "      <td>149</td>\n",
       "      <td>0.232015</td>\n",
       "      <td>459503</td>\n",
       "    </tr>\n",
       "    <tr>\n",
       "      <th>459503</th>\n",
       "      <td>1128</td>\n",
       "      <td>1369</td>\n",
       "      <td>149</td>\n",
       "      <td>0.232015</td>\n",
       "      <td>459504</td>\n",
       "    </tr>\n",
       "    <tr>\n",
       "      <th>459504</th>\n",
       "      <td>1128</td>\n",
       "      <td>1385</td>\n",
       "      <td>149</td>\n",
       "      <td>0.232015</td>\n",
       "      <td>459505</td>\n",
       "    </tr>\n",
       "    <tr>\n",
       "      <th>459505</th>\n",
       "      <td>1128</td>\n",
       "      <td>1401</td>\n",
       "      <td>149</td>\n",
       "      <td>0.232015</td>\n",
       "      <td>459506</td>\n",
       "    </tr>\n",
       "  </tbody>\n",
       "</table>\n",
       "<p>459506 rows × 5 columns</p>\n",
       "</div>"
      ],
      "text/plain": [
       "           u     i   ts     label     idx\n",
       "0       3173  2917    0  1.000000       1\n",
       "1       3173  2933    0  1.000000       2\n",
       "2       3173  3189    0  1.000000       3\n",
       "3       3173  3445    0  1.000000       4\n",
       "4       3173  2918    0  1.000000       5\n",
       "...      ...   ...  ...       ...     ...\n",
       "459501  1128  1113  149  0.232015  459502\n",
       "459502  1128  1129  149  0.232015  459503\n",
       "459503  1128  1369  149  0.232015  459504\n",
       "459504  1128  1385  149  0.232015  459505\n",
       "459505  1128  1401  149  0.232015  459506\n",
       "\n",
       "[459506 rows x 5 columns]"
      ]
     },
     "execution_count": 16,
     "metadata": {},
     "output_type": "execute_result"
    }
   ],
   "source": [
    "tgn_event_df"
   ]
  },
  {
   "cell_type": "code",
   "execution_count": 18,
   "id": "6936e433-1656-4b14-af3a-91a0762024ce",
   "metadata": {},
   "outputs": [],
   "source": [
    "tgn_event_df.to_csv('ml_tgn_u1_5s.csv',index=None) "
   ]
  },
  {
   "cell_type": "code",
   "execution_count": 17,
   "id": "4a60a3ce-8ee4-41e2-9e4e-94659b4a5e05",
   "metadata": {},
   "outputs": [],
   "source": [
    "# node_occlusion_feature_df"
   ]
  },
  {
   "cell_type": "code",
   "execution_count": 56,
   "id": "def0d989-6f37-4af5-bcff-56fc52d82ef2",
   "metadata": {},
   "outputs": [],
   "source": [
    "# FoV_cell[130]"
   ]
  },
  {
   "cell_type": "code",
   "execution_count": null,
   "id": "3a2f6870-d474-4ec7-aaa8-654492c19d45",
   "metadata": {},
   "outputs": [],
   "source": []
  }
 ],
 "metadata": {
  "kernelspec": {
   "display_name": "Python 3 (ipykernel)",
   "language": "python",
   "name": "python3"
  },
  "language_info": {
   "codemirror_mode": {
    "name": "ipython",
    "version": 3
   },
   "file_extension": ".py",
   "mimetype": "text/x-python",
   "name": "python",
   "nbconvert_exporter": "python",
   "pygments_lexer": "ipython3",
   "version": "3.7.13"
  }
 },
 "nbformat": 4,
 "nbformat_minor": 5
}
